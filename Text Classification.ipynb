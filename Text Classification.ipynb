{
 "cells": [
  {
   "cell_type": "markdown",
   "metadata": {},
   "source": [
    "# Auditor Sentiment Classifier"
   ]
  },
  {
   "cell_type": "markdown",
   "metadata": {},
   "source": [
    "This is the notebook where TFIDF and GloVe embedding were utilized for text feature extraction. It builds on top of the `data_wrangling.ipynb` notebook to load the `train_df` and `test_df` DataFrame variables"
   ]
  },
  {
   "cell_type": "code",
   "execution_count": 1,
   "metadata": {
    "scrolled": true
   },
   "outputs": [
    {
     "name": "stdout",
     "output_type": "stream",
     "text": [
      "The agreement was signed with Biohit Healthcare Ltd , the UK-based subsidiary of Biohit Oyj , a Finnish public company which develops , manufactures and markets liquid handling products and diagnostic test systems .\n"
     ]
    },
    {
     "name": "stderr",
     "output_type": "stream",
     "text": [
      "[nltk_data] Downloading package punkt to\n",
      "[nltk_data]     C:\\Users\\sunny\\AppData\\Roaming\\nltk_data...\n",
      "[nltk_data]   Package punkt is already up-to-date!\n"
     ]
    },
    {
     "name": "stdout",
     "output_type": "stream",
     "text": [
      "Altia a False\n",
      "'s ' False\n",
      "operating o False\n",
      "profit p False\n",
      "jumped j False\n",
      "to t False\n",
      "EUR e False\n",
      "47 4 True\n",
      "million m False\n",
      "from f False\n",
      "EUR e False\n",
      "6.6 6 True\n",
      "million m False\n",
      ". . False\n",
      "(47478,)\n",
      "(89642,)\n",
      "Final corpus contains 45051 words, with 7265 unique values in the dictionary\n"
     ]
    }
   ],
   "source": [
    "%run data_wrangling.ipynb"
   ]
  },
  {
   "cell_type": "code",
   "execution_count": 2,
   "metadata": {},
   "outputs": [],
   "source": [
    "from sklearn.feature_extraction.text import TfidfVectorizer, CountVectorizer\n",
    "\n",
    "from sklearn.naive_bayes import MultinomialNB, ComplementNB\n",
    "\n",
    "from imblearn.over_sampling import SMOTE\n",
    "from imblearn.pipeline import Pipeline as imbpipeline\n",
    "\n",
    "from sklearn.ensemble import RandomForestClassifier, ExtraTreesClassifier\n",
    "from sklearn.model_selection import GridSearchCV\n",
    "from sklearn.svm import SVC\n",
    "from sklearn.preprocessing import StandardScaler\n",
    "from xgboost import XGBClassifier\n",
    "\n",
    "from sklearn.metrics import plot_confusion_matrix\n",
    "from sklearn.metrics import classification_report\n",
    "from sklearn.metrics import plot_roc_curve\n",
    "from sklearn.metrics import roc_auc_score\n",
    "from sklearn.metrics import confusion_matrix\n",
    "from sklearn.metrics import ConfusionMatrixDisplay\n",
    "from sklearn.metrics import classification_report\n",
    "\n",
    "\n",
    "from copy import deepcopy"
   ]
  },
  {
   "cell_type": "code",
   "execution_count": 3,
   "metadata": {},
   "outputs": [],
   "source": [
    "y_train=train_df['label']\n",
    "X_train=train_df['sentence']"
   ]
  },
  {
   "cell_type": "markdown",
   "metadata": {},
   "source": [
    "### TFIDF & Naive Bayes \n",
    "\n",
    "Using `TfidfVectorizer()` for a first simple model - it will result in all positive value frequency vectors, naive bayes models as classifiers calculating the probabilistic distribution of text frequencies would work well in this case. We will try both multinomial NB and complementary NB since there is an imbalance in the dataset\n",
    "\n",
    "#### Multinomial Naive Bayes"
   ]
  },
  {
   "cell_type": "code",
   "execution_count": 4,
   "metadata": {},
   "outputs": [],
   "source": [
    "steps=[('preprocess',TextPreprocessor()),('tfidf',TfidfVectorizer(min_df=0.01,max_df=0.95))]\n",
    "fsm_pipe=Pipeline(steps)"
   ]
  },
  {
   "cell_type": "code",
   "execution_count": 6,
   "metadata": {},
   "outputs": [
    {
     "data": {
      "text/plain": [
       "accord         0.0\n",
       "acquire        0.0\n",
       "acquisition    0.0\n",
       "agreement      0.0\n",
       "aim            0.0\n",
       "              ... \n",
       "value          0.0\n",
       "well           0.0\n",
       "work           0.0\n",
       "world          0.0\n",
       "year           0.0\n",
       "Name: 0, Length: 190, dtype: float64"
      ]
     },
     "execution_count": 6,
     "metadata": {},
     "output_type": "execute_result"
    }
   ],
   "source": [
    "fsm_pipe.fit(X_train)\n",
    "feat_names=fsm_pipe['tfidf'].get_feature_names()\n",
    "tfidf_matrix=pd.DataFrame(fsm_pipe.fit_transform(X_train).toarray(),columns=feat_names)\n",
    "tfidf_matrix.iloc[0]"
   ]
  },
  {
   "cell_type": "code",
   "execution_count": 7,
   "metadata": {},
   "outputs": [
    {
     "data": {
      "text/plain": [
       "<3877x242 sparse matrix of type '<class 'numpy.float64'>'\n",
       "\twith 37001 stored elements in Compressed Sparse Row format>"
      ]
     },
     "execution_count": 7,
     "metadata": {},
     "output_type": "execute_result"
    }
   ],
   "source": [
    "fsm_pipe['tfidf'].fit_transform(X_train)"
   ]
  },
  {
   "cell_type": "code",
   "execution_count": 8,
   "metadata": {},
   "outputs": [
    {
     "data": {
      "text/plain": [
       "[('preprocess', TextPreprocessor()),\n",
       " ('tfidf', TfidfVectorizer(max_df=0.95, min_df=0.01)),\n",
       " ('multinb', MultinomialNB())]"
      ]
     },
     "execution_count": 8,
     "metadata": {},
     "output_type": "execute_result"
    }
   ],
   "source": [
    "fsm_pipe.steps.append(('multinb',MultinomialNB()))\n",
    "fsm_pipe.steps"
   ]
  },
  {
   "cell_type": "code",
   "execution_count": 9,
   "metadata": {},
   "outputs": [
    {
     "data": {
      "text/plain": [
       "Pipeline(steps=[('preprocess', TextPreprocessor()),\n",
       "                ('tfidf', TfidfVectorizer(max_df=0.95, min_df=0.01)),\n",
       "                ('multinb', MultinomialNB())])"
      ]
     },
     "execution_count": 9,
     "metadata": {},
     "output_type": "execute_result"
    }
   ],
   "source": [
    "fsm_pipe.fit(X_train,y_train)"
   ]
  },
  {
   "cell_type": "code",
   "execution_count": 10,
   "metadata": {},
   "outputs": [],
   "source": [
    "X_test=test_df['sentence']\n",
    "y_test=test_df['label']"
   ]
  },
  {
   "cell_type": "code",
   "execution_count": 11,
   "metadata": {},
   "outputs": [
    {
     "data": {
      "text/plain": [
       "0.7020892442610266"
      ]
     },
     "execution_count": 11,
     "metadata": {},
     "output_type": "execute_result"
    }
   ],
   "source": [
    "fsm_pipe.score(X_train,y_train)"
   ]
  },
  {
   "cell_type": "code",
   "execution_count": 12,
   "metadata": {},
   "outputs": [
    {
     "data": {
      "text/plain": [
       "0.6883384932920537"
      ]
     },
     "execution_count": 12,
     "metadata": {},
     "output_type": "execute_result"
    }
   ],
   "source": [
    "fsm_pipe.score(X_test,y_test)"
   ]
  },
  {
   "cell_type": "code",
   "execution_count": 13,
   "metadata": {
    "scrolled": true
   },
   "outputs": [
    {
     "name": "stdout",
     "output_type": "stream",
     "text": [
      "TFIDF with Multinomial NB train score 0.7020892442610266\n",
      "TFIDF with Multinomial NB test score 0.6883384932920537\n"
     ]
    },
    {
     "data": {
      "image/png": "[encoded data removed]",
      "text/plain": [
       "<Figure size 432x288 with 2 Axes>"
      ]
     },
     "metadata": {
      "needs_background": "light"
     },
     "output_type": "display_data"
    }
   ],
   "source": [
    "print(f'TFIDF with Multinomial NB train score {fsm_pipe.score(X_train,y_train)}')\n",
    "print(f'TFIDF with Multinomial NB test score {fsm_pipe.score(X_test,y_test)}')\n",
    "cm=confusion_matrix(y_test,fsm_pipe.predict(X_test))\n",
    "labels=['bad','neutral','good']\n",
    "ConfusionMatrixDisplay(confusion_matrix=cm,display_labels=labels).plot()\n",
    "plt.show()"
   ]
  },
  {
   "cell_type": "code",
   "execution_count": 182,
   "metadata": {},
   "outputs": [
    {
     "data": {
      "text/plain": [
       "Pipeline(steps=[('preprocess', TextPreprocessor()),\n",
       "                ('tfidf', TfidfVectorizer(max_df=0.95, min_df=0.01)),\n",
       "                ('multinb', MultinomialNB())])"
      ]
     },
     "execution_count": 182,
     "metadata": {},
     "output_type": "execute_result"
    }
   ],
   "source": [
    "fsm_pipe"
   ]
  },
  {
   "cell_type": "markdown",
   "metadata": {},
   "source": [
    "Would tfidf vectorizer with no min max do any better? Presumably no but wanted to try it out "
   ]
  },
  {
   "cell_type": "code",
   "execution_count": 34,
   "metadata": {},
   "outputs": [
    {
     "data": {
      "text/plain": [
       "[('preprocess', TextPreprocessor()), ('multinb', MultinomialNB())]"
      ]
     },
     "execution_count": 34,
     "metadata": {},
     "output_type": "execute_result"
    }
   ],
   "source": [
    "fsm_pipe_nominmax=deepcopy(fsm_pipe)\n",
    "fsm_pipe_nominmax.steps.pop(1)\n",
    "fsm_pipe_nominmax.steps"
   ]
  },
  {
   "cell_type": "code",
   "execution_count": 36,
   "metadata": {},
   "outputs": [
    {
     "data": {
      "text/plain": [
       "[('preprocess', TextPreprocessor()),\n",
       " ('tfidf', TfidfVectorizer()),\n",
       " ('multinb', MultinomialNB())]"
      ]
     },
     "execution_count": 36,
     "metadata": {},
     "output_type": "execute_result"
    }
   ],
   "source": [
    "fsm_pipe_nominmax.steps.insert(1,('tfidf',TfidfVectorizer()))\n",
    "fsm_pipe_nominmax.steps"
   ]
  },
  {
   "cell_type": "code",
   "execution_count": 37,
   "metadata": {},
   "outputs": [
    {
     "data": {
      "text/plain": [
       "0.7420686097498066"
      ]
     },
     "execution_count": 37,
     "metadata": {},
     "output_type": "execute_result"
    }
   ],
   "source": [
    "fsm_pipe_nominmax.fit(X_train,y_train)\n",
    "fsm_pipe_nominmax.score(X_train,y_train)"
   ]
  },
  {
   "cell_type": "code",
   "execution_count": 39,
   "metadata": {},
   "outputs": [
    {
     "data": {
      "text/plain": [
       "0.6749226006191951"
      ]
     },
     "execution_count": 39,
     "metadata": {},
     "output_type": "execute_result"
    }
   ],
   "source": [
    "fsm_pipe_nominmax.score(X_test,y_test)"
   ]
  },
  {
   "cell_type": "markdown",
   "metadata": {},
   "source": [
    "It does not do better. What about complementary NB?\n",
    "\n",
    "#### Complementary Naive Bayes"
   ]
  },
  {
   "cell_type": "code",
   "execution_count": 190,
   "metadata": {},
   "outputs": [
    {
     "data": {
      "text/plain": [
       "Pipeline(steps=[('preprocess', TextPreprocessor()),\n",
       "                ('tfidf', TfidfVectorizer(max_df=0.95, min_df=0.01)),\n",
       "                ('compnb', ComplementNB())])"
      ]
     },
     "execution_count": 190,
     "metadata": {},
     "output_type": "execute_result"
    }
   ],
   "source": [
    "fsm_pipe_compnb=deepcopy(fsm_pipe)\n",
    "fsm_pipe_compnb.steps.pop(-1)\n",
    "fsm_pipe_compnb.steps.append(('compnb',ComplementNB()))\n",
    "fsm_pipe_compnb"
   ]
  },
  {
   "cell_type": "code",
   "execution_count": 191,
   "metadata": {},
   "outputs": [
    {
     "name": "stdout",
     "output_type": "stream",
     "text": [
      "TFIDF and complement NB train score 0.6762961052360073\n",
      "TFIDF and complement NB test score 0.6418988648090815\n"
     ]
    },
    {
     "data": {
      "image/png": "[encoded data removed]",
      "text/plain": [
       "<Figure size 432x288 with 2 Axes>"
      ]
     },
     "metadata": {
      "needs_background": "light"
     },
     "output_type": "display_data"
    }
   ],
   "source": [
    "fsm_pipe_compnb.fit(X_train,y_train)\n",
    "print('TFIDF and complement NB train score', fsm_pipe_compnb.score(X_train,y_train))\n",
    "print('TFIDF and complement NB test score', fsm_pipe_compnb.score(X_test,y_test))\n",
    "cm=confusion_matrix(y_test,fsm_pipe_compnb.predict(X_test))\n",
    "labels=['bad','neutral','good']\n",
    "ConfusionMatrixDisplay(confusion_matrix=cm,display_labels=labels).plot()\n",
    "plt.show()"
   ]
  },
  {
   "cell_type": "markdown",
   "metadata": {},
   "source": [
    "The scores are similar, scores aren't really any better\n",
    "\n",
    "TFIDF is only a frequency vectorizer and does not consider any relationship between words. Next step we will implement pre-trained GloVe Embedding, which takes in account the co-occurance probabilities between words. "
   ]
  },
  {
   "cell_type": "markdown",
   "metadata": {},
   "source": [
    "### GLOVE Embedding\n",
    "\n",
    "We will use the pre-trained GloVe Embedding text file trained on 6 Billion tokens with 100 dimension vectors, directly from The Standford Natural Language Processing Group [linked here](https://nlp.stanford.edu/projects/glove/)"
   ]
  },
  {
   "cell_type": "code",
   "execution_count": 14,
   "metadata": {
    "scrolled": true
   },
   "outputs": [],
   "source": [
    "# creating a function to build a dictionary of token to vector mapping using the pre-trained text file\n",
    "def load_embedding(filename):\n",
    "    embedding={}\n",
    "    with open(filename, 'r', encoding='utf-8') as file:\n",
    "        \n",
    "        for line in file:\n",
    "            tok=line.split()[0]\n",
    "            vec=line.split()[1:]\n",
    "            embedding[tok]=np.array(vec,dtype='float64')\n",
    "    return embedding"
   ]
  },
  {
   "cell_type": "code",
   "execution_count": 15,
   "metadata": {},
   "outputs": [],
   "source": [
    "# save the dictionary to glove_embedding for later use to build custom transformers\n",
    "glove_embedding=load_embedding('data/glove.6B.100d.txt')"
   ]
  },
  {
   "cell_type": "code",
   "execution_count": 16,
   "metadata": {
    "scrolled": true
   },
   "outputs": [],
   "source": [
    "# creating and testing out functions to grab the glove vectors for each token in a document, and averaging the vectors to represent the glove vector for the specific document\n",
    "# to be utilitzed to build custom sklearn tranformer\n",
    "def glove_vectorize (doc):\n",
    "    if doc == '':\n",
    "        doc_array=np.zeros((100,))\n",
    "    else:\n",
    "        arrays=[]\n",
    "        for token in doc.split():\n",
    "            if token in glove_embedding.keys():\n",
    "                token_array=glove_embedding[token]\n",
    "                arrays.append(token_array)\n",
    "            else:\n",
    "                arrays.append(np.zeros((100,)))    \n",
    "        doc_array_stacked=np.stack(arrays,axis=0)\n",
    "        doc_array=np.mean(doc_array_stacked,axis=0)\n",
    "    \n",
    "    return doc_array"
   ]
  },
  {
   "cell_type": "code",
   "execution_count": 17,
   "metadata": {},
   "outputs": [
    {
     "data": {
      "text/plain": [
       "0    [0.40670466666666666, 0.20764833333333332, -0....\n",
       "1    [-0.004460333333333341, 0.04852666666666667, 0...\n",
       "2    [-0.08191927000000002, 0.16058250000000002, -0...\n",
       "Name: sentence, dtype: object"
      ]
     },
     "execution_count": 17,
     "metadata": {},
     "output_type": "execute_result"
    }
   ],
   "source": [
    "# inspecting examples of the glove_vectorize function\n",
    "pre_processed=TextPreprocessor().fit_transform(X_train)\n",
    "train_glove_vectors=pre_processed.apply(glove_vectorize)\n",
    "train_glove_vectors[0:3]"
   ]
  },
  {
   "cell_type": "code",
   "execution_count": 18,
   "metadata": {},
   "outputs": [
    {
     "data": {
      "text/plain": [
       "(100,)"
      ]
     },
     "execution_count": 18,
     "metadata": {},
     "output_type": "execute_result"
    }
   ],
   "source": [
    "train_glove_vectors[0].shape"
   ]
  },
  {
   "cell_type": "code",
   "execution_count": 19,
   "metadata": {},
   "outputs": [],
   "source": [
    "# building custom SKlearn transformer to get the average GloVe vector for each document/sentence to incorporate in pipeline\n",
    "class GloveAverageVectorizer(BaseEstimator, TransformerMixin):\n",
    "    \n",
    "    def __init__(self):\n",
    "        \n",
    "        pass\n",
    "    \n",
    "    def fit(self, data, y = 0):\n",
    "        return self\n",
    "    \n",
    "    def vectorize(self, doc):\n",
    "        if doc == '':\n",
    "            doc_array=np.zeros((100,))\n",
    "        else:\n",
    "            arrays=[]\n",
    "            for token in doc.split():\n",
    "                if token in glove_embedding.keys():\n",
    "                    token_array=glove_embedding[token]\n",
    "                    arrays.append(token_array)\n",
    "                else:\n",
    "                    arrays.append(np.zeros((100,)))            \n",
    "            doc_array_stacked=np.stack(arrays,axis=0)\n",
    "            doc_array=np.mean(doc_array_stacked,axis=0)\n",
    "        return doc_array\n",
    "    \n",
    "    def transform(self, data, y = 0):\n",
    "        \n",
    "        average_glove_vector = data.apply(self.vectorize)\n",
    "        average_glove_matrix=np.stack(average_glove_vector.values)\n",
    "       \n",
    "        return average_glove_matrix"
   ]
  },
  {
   "cell_type": "code",
   "execution_count": 20,
   "metadata": {
    "scrolled": false
   },
   "outputs": [
    {
     "data": {
      "text/plain": [
       "array([[ 0.40670467,  0.20764833, -0.14224717, ..., -0.01715867,\n",
       "         0.50807167, -0.452815  ],\n",
       "       [-0.00446033,  0.04852667,  0.04194881, ..., -0.22582319,\n",
       "         0.61077862,  0.04346652],\n",
       "       [-0.08191927,  0.1605825 , -0.00231253, ..., -0.1733163 ,\n",
       "         0.4681687 ,  0.3346366 ],\n",
       "       ...,\n",
       "       [-0.12882631,  0.048714  ,  0.06379092, ..., -0.55575538,\n",
       "         0.60405877,  0.46895462],\n",
       "       [ 0.10167821,  0.15318392,  0.29804153, ..., -0.14209357,\n",
       "         0.39582914,  0.25393364],\n",
       "       [-0.0368725 ,  0.10975112,  0.4332475 , ..., -0.08658887,\n",
       "         0.8012    ,  0.14789125]])"
      ]
     },
     "execution_count": 20,
     "metadata": {},
     "output_type": "execute_result"
    }
   ],
   "source": [
    "# inspecting results making sure its working properly without error\n",
    "glove_vec=GloveAverageVectorizer()\n",
    "trans_array = glove_vec.fit_transform(pre_processed)\n",
    "trans_array"
   ]
  },
  {
   "cell_type": "markdown",
   "metadata": {},
   "source": [
    "We will try three classifier models using GloVe Embedding: Random Forest; Support Vector Machine; and Extreme Gradient Boost. We will implement SMOTE resampling techniques and cross-validate using a pipeline through gridsearch CV to find the best hyperparameters through different iterations \n",
    "\n",
    "\n",
    "#### Random Forest"
   ]
  },
  {
   "cell_type": "code",
   "execution_count": 147,
   "metadata": {},
   "outputs": [
    {
     "data": {
      "text/plain": [
       "Pipeline(steps=[('preprocess', TextPreprocessor()),\n",
       "                ('glovevec', GloveAverageVectorizer()),\n",
       "                ('rf', RandomForestClassifier())])"
      ]
     },
     "execution_count": 147,
     "metadata": {},
     "output_type": "execute_result"
    }
   ],
   "source": [
    "glove_steps=[('preprocess',TextPreprocessor()),('glovevec',GloveAverageVectorizer())]\n",
    "glove_steps.append(('rf',RandomForestClassifier(n_estimators=100)))\n",
    "rf_pipe=Pipeline(glove_steps)\n",
    "rf_pipe"
   ]
  },
  {
   "cell_type": "code",
   "execution_count": 148,
   "metadata": {},
   "outputs": [
    {
     "data": {
      "text/plain": [
       "Pipeline(steps=[('preprocess', TextPreprocessor()),\n",
       "                ('glovevec', GloveAverageVectorizer()),\n",
       "                ('rf', RandomForestClassifier())])"
      ]
     },
     "execution_count": 148,
     "metadata": {},
     "output_type": "execute_result"
    }
   ],
   "source": [
    "rf_pipe.fit(X_train,y_train)"
   ]
  },
  {
   "cell_type": "code",
   "execution_count": 149,
   "metadata": {},
   "outputs": [
    {
     "data": {
      "text/plain": [
       "0.9992262058292494"
      ]
     },
     "execution_count": 149,
     "metadata": {},
     "output_type": "execute_result"
    }
   ],
   "source": [
    "rf_pipe.score(X_train,y_train)"
   ]
  },
  {
   "cell_type": "code",
   "execution_count": 151,
   "metadata": {
    "scrolled": true
   },
   "outputs": [
    {
     "data": {
      "text/plain": [
       "<sklearn.metrics._plot.confusion_matrix.ConfusionMatrixDisplay at 0x1c2af267970>"
      ]
     },
     "execution_count": 151,
     "metadata": {},
     "output_type": "execute_result"
    },
    {
     "data": {
      "image/png": "[encoded data removed]",
      "text/plain": [
       "<Figure size 432x288 with 2 Axes>"
      ]
     },
     "metadata": {
      "needs_background": "light"
     },
     "output_type": "display_data"
    }
   ],
   "source": [
    "plot_confusion_matrix(rf_pipe,X_test,y_test)"
   ]
  },
  {
   "cell_type": "code",
   "execution_count": 152,
   "metadata": {},
   "outputs": [
    {
     "data": {
      "text/plain": [
       "<sklearn.metrics._plot.confusion_matrix.ConfusionMatrixDisplay at 0x1c29f48d0d0>"
      ]
     },
     "execution_count": 152,
     "metadata": {},
     "output_type": "execute_result"
    },
    {
     "data": {
      "image/png": "[encoded data removed]",
      "text/plain": [
       "<Figure size 432x288 with 2 Axes>"
      ]
     },
     "metadata": {
      "needs_background": "light"
     },
     "output_type": "display_data"
    }
   ],
   "source": [
    "plot_confusion_matrix(rf_pipe,X_train,y_train)"
   ]
  },
  {
   "cell_type": "code",
   "execution_count": 150,
   "metadata": {
    "scrolled": false
   },
   "outputs": [
    {
     "data": {
      "text/plain": [
       "0.675954592363261"
      ]
     },
     "execution_count": 150,
     "metadata": {},
     "output_type": "execute_result"
    }
   ],
   "source": [
    "rf_pipe.score(X_test,y_test)"
   ]
  },
  {
   "cell_type": "code",
   "execution_count": 156,
   "metadata": {},
   "outputs": [
    {
     "data": {
      "text/plain": [
       "{'bootstrap': True,\n",
       " 'ccp_alpha': 0.0,\n",
       " 'class_weight': None,\n",
       " 'criterion': 'gini',\n",
       " 'max_depth': None,\n",
       " 'max_features': 'auto',\n",
       " 'max_leaf_nodes': None,\n",
       " 'max_samples': None,\n",
       " 'min_impurity_decrease': 0.0,\n",
       " 'min_impurity_split': None,\n",
       " 'min_samples_leaf': 1,\n",
       " 'min_samples_split': 2,\n",
       " 'min_weight_fraction_leaf': 0.0,\n",
       " 'n_estimators': 100,\n",
       " 'n_jobs': None,\n",
       " 'oob_score': False,\n",
       " 'random_state': None,\n",
       " 'verbose': 0,\n",
       " 'warm_start': False}"
      ]
     },
     "execution_count": 156,
     "metadata": {},
     "output_type": "execute_result"
    }
   ],
   "source": [
    "rf_pipe['rf'].get_params()"
   ]
  },
  {
   "cell_type": "code",
   "execution_count": 160,
   "metadata": {},
   "outputs": [],
   "source": [
    "rf_params={'rf__n_estimators':[50,100,150],'rf__min_samples_leaf':[1,3,5,7,9],'rf__max_depth':[3,5,7,9]}\n",
    "rf_grid=GridSearchCV(rf_pipe,rf_params,scoring='accuracy',cv=5)"
   ]
  },
  {
   "cell_type": "code",
   "execution_count": 161,
   "metadata": {},
   "outputs": [
    {
     "data": {
      "text/plain": [
       "GridSearchCV(cv=5,\n",
       "             estimator=Pipeline(steps=[('preprocess', TextPreprocessor()),\n",
       "                                       ('glovevec', GloveAverageVectorizer()),\n",
       "                                       ('rf', RandomForestClassifier())]),\n",
       "             param_grid={'rf__max_depth': [3, 5, 7, 9],\n",
       "                         'rf__min_samples_leaf': [1, 3, 5, 7, 9],\n",
       "                         'rf__n_estimators': [50, 100, 150]},\n",
       "             scoring='accuracy')"
      ]
     },
     "execution_count": 161,
     "metadata": {},
     "output_type": "execute_result"
    }
   ],
   "source": [
    "rf_grid.fit(X_train,y_train)"
   ]
  },
  {
   "cell_type": "code",
   "execution_count": 162,
   "metadata": {},
   "outputs": [
    {
     "data": {
      "text/plain": [
       "{'mean_fit_time': array([ 8.77321749,  8.05455294,  9.82930202,  9.51136985,  9.27817869,\n",
       "         6.34403605,  5.65823565,  6.31266499, 10.08092785,  8.4143785 ,\n",
       "         9.24879193, 12.62532153,  7.26430988,  9.00261326,  7.00736709,\n",
       "         9.29412847,  5.98386788,  7.01545873,  6.01084456,  5.96647677,\n",
       "         7.13538041,  5.26174984,  8.42038798, 10.1097755 ,  8.17526488,\n",
       "         8.78764272,  8.88793445,  8.15786304,  8.37247686,  8.82031875,\n",
       "         8.26028466,  7.49990125,  8.66675539,  6.08881407,  9.56602478,\n",
       "         9.08047924,  5.95635643,  9.82469916, 14.94014297,  8.55501165,\n",
       "        11.51608167, 13.24085507,  6.17092786,  9.05820494, 11.23155532,\n",
       "         8.42840652,  8.84973516,  9.44253798,  8.31159186,  8.48413877,\n",
       "         5.92463584,  4.72708068,  5.51025739,  6.10028272,  4.66924186,\n",
       "         5.53773589,  6.16487584,  4.33566823,  5.62904768,  7.03606234]),\n",
       " 'std_fit_time': array([1.52364031, 0.59730406, 1.38930371, 0.186722  , 1.57883557,\n",
       "        0.15763403, 0.22146146, 0.95363951, 2.19748879, 1.58516437,\n",
       "        1.88492718, 1.10645558, 1.0572016 , 1.66244955, 0.36614519,\n",
       "        1.51936616, 0.20058775, 0.82091569, 0.88975972, 0.1537412 ,\n",
       "        1.50216294, 0.31079161, 1.34202876, 0.16134971, 0.12288954,\n",
       "        0.89068079, 1.05171064, 1.53183175, 1.76840545, 2.20410869,\n",
       "        0.71485891, 0.50865773, 0.93322357, 0.5346643 , 0.57017937,\n",
       "        1.39648253, 0.16301551, 1.8097922 , 3.11220868, 1.52786427,\n",
       "        2.38506808, 4.45985328, 0.91392196, 1.9765513 , 1.65679674,\n",
       "        1.19612359, 1.79895614, 1.45500121, 2.01284908, 2.37851811,\n",
       "        0.15733167, 0.42284019, 0.23191384, 0.19433599, 0.08646716,\n",
       "        0.32352044, 0.43333733, 0.07254456, 0.53954776, 0.46478024]),\n",
       " 'mean_score_time': array([2.09441385, 1.77414103, 2.04792233, 2.08380737, 1.89802856,\n",
       "        1.23838415, 1.25685825, 1.35085893, 2.11762052, 1.95493665,\n",
       "        1.93788996, 2.62275667, 1.42030659, 2.06194987, 1.44602098,\n",
       "        2.06118398, 1.22604618, 1.37185006, 1.2848856 , 1.26370091,\n",
       "        1.20857916, 1.20084081, 1.69127975, 1.89023685, 1.79753013,\n",
       "        1.80579486, 1.87684293, 1.59315763, 1.86246319, 1.77915263,\n",
       "        1.8728972 , 1.24817944, 1.51356015, 1.49985576, 1.86119242,\n",
       "        1.62108769, 1.35185561, 1.91908302, 2.58644471, 1.94654799,\n",
       "        2.24060574, 2.1912375 , 1.23461752, 1.84975357, 1.7781261 ,\n",
       "        1.88206048, 1.7323422 , 1.34826527, 2.03277564, 1.434483  ,\n",
       "        0.93640695, 1.0362154 , 1.01025019, 0.96223779, 0.95251322,\n",
       "        1.07839327, 0.98789191, 1.00842342, 0.99277534, 1.18082271]),\n",
       " 'std_score_time': array([0.27781759, 0.26267171, 0.4685726 , 0.28041134, 0.4966123 ,\n",
       "        0.06379573, 0.07102365, 0.18875293, 0.48727025, 0.4191085 ,\n",
       "        0.55897577, 0.15560119, 0.1828378 , 0.28713436, 0.21965608,\n",
       "        0.6353826 , 0.10245823, 0.22938138, 0.23412955, 0.20771886,\n",
       "        0.09281564, 0.06062305, 0.24782355, 0.12591033, 0.02567849,\n",
       "        0.26798044, 0.47852667, 0.30641475, 0.44407668, 0.49959316,\n",
       "        0.23938805, 0.0605937 , 0.31714962, 0.29529747, 0.17340354,\n",
       "        0.40692391, 0.26939113, 0.42220368, 0.48043051, 0.21730584,\n",
       "        0.28054591, 0.96956187, 0.030848  , 0.53229548, 0.52538374,\n",
       "        0.45523505, 0.3973138 , 0.18958598, 0.43463936, 0.34111537,\n",
       "        0.02591567, 0.11907368, 0.05325127, 0.05042495, 0.03236501,\n",
       "        0.10812926, 0.06045542, 0.11139283, 0.08501183, 0.13896274]),\n",
       " 'param_rf__max_depth': masked_array(data=[3, 3, 3, 3, 3, 3, 3, 3, 3, 3, 3, 3, 3, 3, 3, 5, 5, 5,\n",
       "                    5, 5, 5, 5, 5, 5, 5, 5, 5, 5, 5, 5, 7, 7, 7, 7, 7, 7,\n",
       "                    7, 7, 7, 7, 7, 7, 7, 7, 7, 9, 9, 9, 9, 9, 9, 9, 9, 9,\n",
       "                    9, 9, 9, 9, 9, 9],\n",
       "              mask=[False, False, False, False, False, False, False, False,\n",
       "                    False, False, False, False, False, False, False, False,\n",
       "                    False, False, False, False, False, False, False, False,\n",
       "                    False, False, False, False, False, False, False, False,\n",
       "                    False, False, False, False, False, False, False, False,\n",
       "                    False, False, False, False, False, False, False, False,\n",
       "                    False, False, False, False, False, False, False, False,\n",
       "                    False, False, False, False],\n",
       "        fill_value='?',\n",
       "             dtype=object),\n",
       " 'param_rf__min_samples_leaf': masked_array(data=[1, 1, 1, 3, 3, 3, 5, 5, 5, 7, 7, 7, 9, 9, 9, 1, 1, 1,\n",
       "                    3, 3, 3, 5, 5, 5, 7, 7, 7, 9, 9, 9, 1, 1, 1, 3, 3, 3,\n",
       "                    5, 5, 5, 7, 7, 7, 9, 9, 9, 1, 1, 1, 3, 3, 3, 5, 5, 5,\n",
       "                    7, 7, 7, 9, 9, 9],\n",
       "              mask=[False, False, False, False, False, False, False, False,\n",
       "                    False, False, False, False, False, False, False, False,\n",
       "                    False, False, False, False, False, False, False, False,\n",
       "                    False, False, False, False, False, False, False, False,\n",
       "                    False, False, False, False, False, False, False, False,\n",
       "                    False, False, False, False, False, False, False, False,\n",
       "                    False, False, False, False, False, False, False, False,\n",
       "                    False, False, False, False],\n",
       "        fill_value='?',\n",
       "             dtype=object),\n",
       " 'param_rf__n_estimators': masked_array(data=[50, 100, 150, 50, 100, 150, 50, 100, 150, 50, 100, 150,\n",
       "                    50, 100, 150, 50, 100, 150, 50, 100, 150, 50, 100, 150,\n",
       "                    50, 100, 150, 50, 100, 150, 50, 100, 150, 50, 100, 150,\n",
       "                    50, 100, 150, 50, 100, 150, 50, 100, 150, 50, 100, 150,\n",
       "                    50, 100, 150, 50, 100, 150, 50, 100, 150, 50, 100, 150],\n",
       "              mask=[False, False, False, False, False, False, False, False,\n",
       "                    False, False, False, False, False, False, False, False,\n",
       "                    False, False, False, False, False, False, False, False,\n",
       "                    False, False, False, False, False, False, False, False,\n",
       "                    False, False, False, False, False, False, False, False,\n",
       "                    False, False, False, False, False, False, False, False,\n",
       "                    False, False, False, False, False, False, False, False,\n",
       "                    False, False, False, False],\n",
       "        fill_value='?',\n",
       "             dtype=object),\n",
       " 'params': [{'rf__max_depth': 3,\n",
       "   'rf__min_samples_leaf': 1,\n",
       "   'rf__n_estimators': 50},\n",
       "  {'rf__max_depth': 3, 'rf__min_samples_leaf': 1, 'rf__n_estimators': 100},\n",
       "  {'rf__max_depth': 3, 'rf__min_samples_leaf': 1, 'rf__n_estimators': 150},\n",
       "  {'rf__max_depth': 3, 'rf__min_samples_leaf': 3, 'rf__n_estimators': 50},\n",
       "  {'rf__max_depth': 3, 'rf__min_samples_leaf': 3, 'rf__n_estimators': 100},\n",
       "  {'rf__max_depth': 3, 'rf__min_samples_leaf': 3, 'rf__n_estimators': 150},\n",
       "  {'rf__max_depth': 3, 'rf__min_samples_leaf': 5, 'rf__n_estimators': 50},\n",
       "  {'rf__max_depth': 3, 'rf__min_samples_leaf': 5, 'rf__n_estimators': 100},\n",
       "  {'rf__max_depth': 3, 'rf__min_samples_leaf': 5, 'rf__n_estimators': 150},\n",
       "  {'rf__max_depth': 3, 'rf__min_samples_leaf': 7, 'rf__n_estimators': 50},\n",
       "  {'rf__max_depth': 3, 'rf__min_samples_leaf': 7, 'rf__n_estimators': 100},\n",
       "  {'rf__max_depth': 3, 'rf__min_samples_leaf': 7, 'rf__n_estimators': 150},\n",
       "  {'rf__max_depth': 3, 'rf__min_samples_leaf': 9, 'rf__n_estimators': 50},\n",
       "  {'rf__max_depth': 3, 'rf__min_samples_leaf': 9, 'rf__n_estimators': 100},\n",
       "  {'rf__max_depth': 3, 'rf__min_samples_leaf': 9, 'rf__n_estimators': 150},\n",
       "  {'rf__max_depth': 5, 'rf__min_samples_leaf': 1, 'rf__n_estimators': 50},\n",
       "  {'rf__max_depth': 5, 'rf__min_samples_leaf': 1, 'rf__n_estimators': 100},\n",
       "  {'rf__max_depth': 5, 'rf__min_samples_leaf': 1, 'rf__n_estimators': 150},\n",
       "  {'rf__max_depth': 5, 'rf__min_samples_leaf': 3, 'rf__n_estimators': 50},\n",
       "  {'rf__max_depth': 5, 'rf__min_samples_leaf': 3, 'rf__n_estimators': 100},\n",
       "  {'rf__max_depth': 5, 'rf__min_samples_leaf': 3, 'rf__n_estimators': 150},\n",
       "  {'rf__max_depth': 5, 'rf__min_samples_leaf': 5, 'rf__n_estimators': 50},\n",
       "  {'rf__max_depth': 5, 'rf__min_samples_leaf': 5, 'rf__n_estimators': 100},\n",
       "  {'rf__max_depth': 5, 'rf__min_samples_leaf': 5, 'rf__n_estimators': 150},\n",
       "  {'rf__max_depth': 5, 'rf__min_samples_leaf': 7, 'rf__n_estimators': 50},\n",
       "  {'rf__max_depth': 5, 'rf__min_samples_leaf': 7, 'rf__n_estimators': 100},\n",
       "  {'rf__max_depth': 5, 'rf__min_samples_leaf': 7, 'rf__n_estimators': 150},\n",
       "  {'rf__max_depth': 5, 'rf__min_samples_leaf': 9, 'rf__n_estimators': 50},\n",
       "  {'rf__max_depth': 5, 'rf__min_samples_leaf': 9, 'rf__n_estimators': 100},\n",
       "  {'rf__max_depth': 5, 'rf__min_samples_leaf': 9, 'rf__n_estimators': 150},\n",
       "  {'rf__max_depth': 7, 'rf__min_samples_leaf': 1, 'rf__n_estimators': 50},\n",
       "  {'rf__max_depth': 7, 'rf__min_samples_leaf': 1, 'rf__n_estimators': 100},\n",
       "  {'rf__max_depth': 7, 'rf__min_samples_leaf': 1, 'rf__n_estimators': 150},\n",
       "  {'rf__max_depth': 7, 'rf__min_samples_leaf': 3, 'rf__n_estimators': 50},\n",
       "  {'rf__max_depth': 7, 'rf__min_samples_leaf': 3, 'rf__n_estimators': 100},\n",
       "  {'rf__max_depth': 7, 'rf__min_samples_leaf': 3, 'rf__n_estimators': 150},\n",
       "  {'rf__max_depth': 7, 'rf__min_samples_leaf': 5, 'rf__n_estimators': 50},\n",
       "  {'rf__max_depth': 7, 'rf__min_samples_leaf': 5, 'rf__n_estimators': 100},\n",
       "  {'rf__max_depth': 7, 'rf__min_samples_leaf': 5, 'rf__n_estimators': 150},\n",
       "  {'rf__max_depth': 7, 'rf__min_samples_leaf': 7, 'rf__n_estimators': 50},\n",
       "  {'rf__max_depth': 7, 'rf__min_samples_leaf': 7, 'rf__n_estimators': 100},\n",
       "  {'rf__max_depth': 7, 'rf__min_samples_leaf': 7, 'rf__n_estimators': 150},\n",
       "  {'rf__max_depth': 7, 'rf__min_samples_leaf': 9, 'rf__n_estimators': 50},\n",
       "  {'rf__max_depth': 7, 'rf__min_samples_leaf': 9, 'rf__n_estimators': 100},\n",
       "  {'rf__max_depth': 7, 'rf__min_samples_leaf': 9, 'rf__n_estimators': 150},\n",
       "  {'rf__max_depth': 9, 'rf__min_samples_leaf': 1, 'rf__n_estimators': 50},\n",
       "  {'rf__max_depth': 9, 'rf__min_samples_leaf': 1, 'rf__n_estimators': 100},\n",
       "  {'rf__max_depth': 9, 'rf__min_samples_leaf': 1, 'rf__n_estimators': 150},\n",
       "  {'rf__max_depth': 9, 'rf__min_samples_leaf': 3, 'rf__n_estimators': 50},\n",
       "  {'rf__max_depth': 9, 'rf__min_samples_leaf': 3, 'rf__n_estimators': 100},\n",
       "  {'rf__max_depth': 9, 'rf__min_samples_leaf': 3, 'rf__n_estimators': 150},\n",
       "  {'rf__max_depth': 9, 'rf__min_samples_leaf': 5, 'rf__n_estimators': 50},\n",
       "  {'rf__max_depth': 9, 'rf__min_samples_leaf': 5, 'rf__n_estimators': 100},\n",
       "  {'rf__max_depth': 9, 'rf__min_samples_leaf': 5, 'rf__n_estimators': 150},\n",
       "  {'rf__max_depth': 9, 'rf__min_samples_leaf': 7, 'rf__n_estimators': 50},\n",
       "  {'rf__max_depth': 9, 'rf__min_samples_leaf': 7, 'rf__n_estimators': 100},\n",
       "  {'rf__max_depth': 9, 'rf__min_samples_leaf': 7, 'rf__n_estimators': 150},\n",
       "  {'rf__max_depth': 9, 'rf__min_samples_leaf': 9, 'rf__n_estimators': 50},\n",
       "  {'rf__max_depth': 9, 'rf__min_samples_leaf': 9, 'rf__n_estimators': 100},\n",
       "  {'rf__max_depth': 9, 'rf__min_samples_leaf': 9, 'rf__n_estimators': 150}],\n",
       " 'split0_test_score': array([0.62757732, 0.62886598, 0.62757732, 0.625     , 0.63015464,\n",
       "        0.63273196, 0.62886598, 0.63273196, 0.63402062, 0.62886598,\n",
       "        0.62886598, 0.63015464, 0.63402062, 0.62371134, 0.625     ,\n",
       "        0.63917526, 0.64175258, 0.6443299 , 0.64690722, 0.64046392,\n",
       "        0.64561856, 0.64046392, 0.64046392, 0.64690722, 0.6378866 ,\n",
       "        0.64561856, 0.6507732 , 0.6443299 , 0.64175258, 0.64175258,\n",
       "        0.64948454, 0.65592784, 0.65979381, 0.65206186, 0.66108247,\n",
       "        0.65721649, 0.66365979, 0.65592784, 0.65850515, 0.65463918,\n",
       "        0.66108247, 0.65206186, 0.6507732 , 0.65721649, 0.65335052,\n",
       "        0.66108247, 0.66108247, 0.66365979, 0.66881443, 0.66494845,\n",
       "        0.66494845, 0.65463918, 0.66365979, 0.66365979, 0.66237113,\n",
       "        0.65979381, 0.65979381, 0.66365979, 0.66365979, 0.66108247]),\n",
       " 'split1_test_score': array([0.64690722, 0.6443299 , 0.64948454, 0.64819588, 0.6443299 ,\n",
       "        0.64819588, 0.64690722, 0.64948454, 0.64819588, 0.64690722,\n",
       "        0.64561856, 0.64690722, 0.6443299 , 0.63659794, 0.6507732 ,\n",
       "        0.66108247, 0.65979381, 0.65721649, 0.66494845, 0.66365979,\n",
       "        0.66108247, 0.66752577, 0.65463918, 0.65979381, 0.65850515,\n",
       "        0.66108247, 0.66237113, 0.66108247, 0.66365979, 0.65850515,\n",
       "        0.67783505, 0.67783505, 0.67654639, 0.67912371, 0.69201031,\n",
       "        0.68556701, 0.67912371, 0.67912371, 0.67783505, 0.68685567,\n",
       "        0.68170103, 0.68041237, 0.68427835, 0.67912371, 0.67525773,\n",
       "        0.67783505, 0.69072165, 0.69458763, 0.69201031, 0.68943299,\n",
       "        0.68814433, 0.69716495, 0.68556701, 0.69329897, 0.68298969,\n",
       "        0.68685567, 0.68814433, 0.68943299, 0.68556701, 0.68943299]),\n",
       " 'split2_test_score': array([0.64387097, 0.64516129, 0.64387097, 0.64      , 0.64129032,\n",
       "        0.64387097, 0.64258065, 0.64258065, 0.63612903, 0.64516129,\n",
       "        0.64258065, 0.64258065, 0.64129032, 0.64129032, 0.64129032,\n",
       "        0.65677419, 0.65806452, 0.65806452, 0.66064516, 0.66193548,\n",
       "        0.65677419, 0.66064516, 0.65806452, 0.65806452, 0.6516129 ,\n",
       "        0.65548387, 0.65290323, 0.65806452, 0.64903226, 0.65806452,\n",
       "        0.67354839, 0.67225806, 0.66580645, 0.66967742, 0.66709677,\n",
       "        0.67354839, 0.66451613, 0.66967742, 0.67225806, 0.65935484,\n",
       "        0.66580645, 0.67225806, 0.66451613, 0.66709677, 0.67096774,\n",
       "        0.6683871 , 0.67483871, 0.68516129, 0.68129032, 0.67612903,\n",
       "        0.68129032, 0.68258065, 0.67870968, 0.68387097, 0.67870968,\n",
       "        0.68129032, 0.68129032, 0.67354839, 0.67612903, 0.68      ]),\n",
       " 'split3_test_score': array([0.64516129, 0.63870968, 0.63741935, 0.64129032, 0.63870968,\n",
       "        0.63870968, 0.63741935, 0.64      , 0.64129032, 0.64      ,\n",
       "        0.63870968, 0.63741935, 0.63870968, 0.63870968, 0.64258065,\n",
       "        0.65032258, 0.65290323, 0.65419355, 0.6516129 , 0.65290323,\n",
       "        0.65032258, 0.65677419, 0.65290323, 0.65290323, 0.64645161,\n",
       "        0.65419355, 0.64903226, 0.65548387, 0.65419355, 0.65032258,\n",
       "        0.66709677, 0.66193548, 0.66580645, 0.67225806, 0.66322581,\n",
       "        0.66451613, 0.65935484, 0.66193548, 0.65935484, 0.66193548,\n",
       "        0.66322581, 0.66322581, 0.66193548, 0.66064516, 0.66580645,\n",
       "        0.66064516, 0.67354839, 0.67096774, 0.67612903, 0.68387097,\n",
       "        0.67483871, 0.66193548, 0.67225806, 0.67225806, 0.67096774,\n",
       "        0.67096774, 0.66967742, 0.66967742, 0.66709677, 0.66967742]),\n",
       " 'split4_test_score': array([0.63741935, 0.64      , 0.63741935, 0.64387097, 0.63354839,\n",
       "        0.64258065, 0.63741935, 0.63354839, 0.64258065, 0.64258065,\n",
       "        0.63870968, 0.63741935, 0.62967742, 0.63354839, 0.64129032,\n",
       "        0.65935484, 0.65677419, 0.65290323, 0.65290323, 0.6516129 ,\n",
       "        0.65419355, 0.65677419, 0.65548387, 0.65290323, 0.65677419,\n",
       "        0.65290323, 0.65806452, 0.65548387, 0.65419355, 0.64903226,\n",
       "        0.65935484, 0.66967742, 0.67354839, 0.66064516, 0.66967742,\n",
       "        0.6683871 , 0.6683871 , 0.66580645, 0.6683871 , 0.67741935,\n",
       "        0.67096774, 0.67612903, 0.66709677, 0.67354839, 0.6683871 ,\n",
       "        0.66709677, 0.66967742, 0.67741935, 0.67354839, 0.67096774,\n",
       "        0.67612903, 0.65935484, 0.66709677, 0.67483871, 0.67741935,\n",
       "        0.67225806, 0.67870968, 0.67225806, 0.67741935, 0.67096774]),\n",
       " 'mean_test_score': array([0.64018723, 0.63941337, 0.63915431, 0.63967143, 0.63760658,\n",
       "        0.64121783, 0.63863851, 0.63966911, 0.6404433 , 0.64070303,\n",
       "        0.63889691, 0.63889624, 0.63760559, 0.63477153, 0.6401869 ,\n",
       "        0.65334187, 0.65385767, 0.65334154, 0.65540339, 0.65411506,\n",
       "        0.65359827, 0.65643665, 0.65231094, 0.6541144 , 0.65024609,\n",
       "        0.65385634, 0.65462887, 0.65488893, 0.65256635, 0.65153542,\n",
       "        0.66546392, 0.66752677, 0.6683003 , 0.66675324, 0.67061856,\n",
       "        0.66984702, 0.66700831, 0.66649418, 0.66726804, 0.6680409 ,\n",
       "        0.6685567 , 0.66881743, 0.66571999, 0.66752611, 0.66675391,\n",
       "        0.66700931, 0.67397373, 0.67835916, 0.6783585 , 0.67706984,\n",
       "        0.67707017, 0.67113502, 0.67345826, 0.6775853 , 0.67449152,\n",
       "        0.67423312, 0.67552311, 0.67371533, 0.67397439, 0.67423213]),\n",
       " 'std_test_score': array([0.00707305, 0.00581889, 0.00733495, 0.00785216, 0.0051379 ,\n",
       "        0.00521326, 0.00603965, 0.00617279, 0.00500503, 0.00636402,\n",
       "        0.00564695, 0.00563078, 0.00521   , 0.00608545, 0.00837707,\n",
       "        0.00797073, 0.00646352, 0.00488773, 0.00650212, 0.00832279,\n",
       "        0.00530773, 0.00889985, 0.00615296, 0.00453291, 0.00748133,\n",
       "        0.00497492, 0.00491757, 0.00566825, 0.00718036, 0.00623934,\n",
       "        0.01013638, 0.00773394, 0.00600565, 0.00943428, 0.01110392,\n",
       "        0.0094963 , 0.00670348, 0.00777869, 0.00744609, 0.01211842,\n",
       "        0.00735436, 0.01011687, 0.01082115, 0.0080572 , 0.00739307,\n",
       "        0.00624071, 0.00965468, 0.01078165, 0.00792672, 0.00876529,\n",
       "        0.0076583 , 0.01614978, 0.00790086, 0.01016142, 0.00718199,\n",
       "        0.0092972 , 0.00984168, 0.00856288, 0.00780502, 0.00968142]),\n",
       " 'rank_test_score': array([49, 53, 54, 51, 58, 46, 57, 52, 48, 47, 55, 56, 59, 60, 50, 40, 37,\n",
       "        41, 32, 35, 39, 31, 43, 36, 45, 38, 34, 33, 42, 44, 30, 21, 19, 27,\n",
       "        15, 16, 25, 28, 23, 20, 18, 17, 29, 22, 26, 24, 11,  1,  2,  5,  4,\n",
       "        14, 13,  3,  7,  8,  6, 12, 10,  9])}"
      ]
     },
     "execution_count": 162,
     "metadata": {},
     "output_type": "execute_result"
    }
   ],
   "source": [
    "rf_grid.cv_results_"
   ]
  },
  {
   "cell_type": "code",
   "execution_count": 163,
   "metadata": {},
   "outputs": [
    {
     "data": {
      "text/plain": [
       "{'rf__max_depth': 9, 'rf__min_samples_leaf': 1, 'rf__n_estimators': 150}"
      ]
     },
     "execution_count": 163,
     "metadata": {},
     "output_type": "execute_result"
    }
   ],
   "source": [
    "rf_grid.best_params_"
   ]
  },
  {
   "cell_type": "code",
   "execution_count": 164,
   "metadata": {},
   "outputs": [],
   "source": [
    "rf_params1={'rf__n_estimators':[50,100,150],'rf__min_samples_leaf':[1,3,5,7,9],'rf__max_depth':[7,9,11]}\n",
    "rf_grid1=GridSearchCV(rf_pipe,rf_params1,scoring='accuracy',cv=5)"
   ]
  },
  {
   "cell_type": "code",
   "execution_count": 169,
   "metadata": {},
   "outputs": [
    {
     "data": {
      "text/plain": [
       "0.6783591619554372"
      ]
     },
     "execution_count": 169,
     "metadata": {},
     "output_type": "execute_result"
    }
   ],
   "source": [
    "rf_grid.best_score_"
   ]
  },
  {
   "cell_type": "code",
   "execution_count": 165,
   "metadata": {
    "scrolled": true
   },
   "outputs": [
    {
     "data": {
      "text/plain": [
       "GridSearchCV(cv=5,\n",
       "             estimator=Pipeline(steps=[('preprocess', TextPreprocessor()),\n",
       "                                       ('glovevec', GloveAverageVectorizer()),\n",
       "                                       ('rf', RandomForestClassifier())]),\n",
       "             param_grid={'rf__max_depth': [7, 9, 11],\n",
       "                         'rf__min_samples_leaf': [1, 3, 5, 7, 9],\n",
       "                         'rf__n_estimators': [50, 100, 150]},\n",
       "             scoring='accuracy')"
      ]
     },
     "execution_count": 165,
     "metadata": {},
     "output_type": "execute_result"
    }
   ],
   "source": [
    "rf_grid1.fit(X_train,y_train)"
   ]
  },
  {
   "cell_type": "code",
   "execution_count": 166,
   "metadata": {},
   "outputs": [
    {
     "data": {
      "text/plain": [
       "{'mean_fit_time': array([ 12.21326723,  12.92652707,  14.77925949,  12.05794911,\n",
       "         13.32894917,  15.77933655,  11.80043936,  14.58072953,\n",
       "         15.16948771,  11.60951815,  12.99837399,  15.56615648,\n",
       "         11.94067283,  13.23241711,  15.05436473,  12.20925517,\n",
       "         14.44001145,  16.57367496,  12.23449283,  13.85590181,\n",
       "         15.77328424,  12.04681611, 308.521103  ,  13.51848369,\n",
       "         10.13969221,  11.40017405,  12.10838957,  10.81805387,\n",
       "         11.06513963,  11.98048487,  10.04965062,  11.94508014,\n",
       "         13.71929026,  10.39477911,  12.00574923,  14.26999164,\n",
       "         10.1173245 ,  11.42502937,   7.56266747,   5.82897916,\n",
       "          5.84898028,   6.96246209,   4.79909444,   5.47666354,\n",
       "          6.49946399]),\n",
       " 'std_fit_time': array([8.54860337e-01, 7.80788950e-02, 5.45185372e-01, 8.70984282e-01,\n",
       "        4.82128292e-01, 1.53894541e+00, 9.73829995e-01, 1.32890603e+00,\n",
       "        3.73123472e-01, 4.10356653e-01, 7.17477448e-01, 7.76824501e-01,\n",
       "        6.73679333e-01, 5.21979282e-01, 4.57259312e-01, 2.62904392e-01,\n",
       "        7.94247353e-01, 4.68288994e-01, 3.98721086e-01, 3.11326829e-01,\n",
       "        3.26591557e-01, 2.74384939e-01, 5.89669940e+02, 3.89006533e-01,\n",
       "        1.98435155e-01, 7.44410154e-01, 7.04590288e-01, 9.83235185e-01,\n",
       "        2.28784019e-01, 1.05336267e+00, 2.86787929e-01, 2.98819206e-01,\n",
       "        1.49080605e+00, 7.35654157e-01, 4.52769823e-01, 3.81051764e-01,\n",
       "        1.96686467e-01, 6.98817361e-01, 8.26607719e-01, 1.05648370e+00,\n",
       "        4.46340599e-01, 7.54176773e-01, 1.55914756e-01, 1.23098082e-01,\n",
       "        4.52688991e-01]),\n",
       " 'mean_score_time': array([2.70572634, 2.47510939, 2.56452799, 2.71843033, 2.55551376,\n",
       "        2.51101427, 2.58459506, 2.80080085, 2.59116974, 2.58676033,\n",
       "        2.54581895, 2.86352305, 2.63890066, 2.5595675 , 2.72374334,\n",
       "        2.69431567, 2.6289731 , 2.82988086, 2.61281533, 2.54986677,\n",
       "        2.72177024, 2.73534384, 2.74507179, 2.18909006, 2.10708137,\n",
       "        2.21931729, 2.05807667, 2.23260756, 2.20812345, 2.07232876,\n",
       "        2.13103933, 2.33457394, 2.2099246 , 2.18355584, 2.20436754,\n",
       "        2.27021408, 2.28663435, 2.08945069, 1.35609508, 1.18342762,\n",
       "        1.11994543, 1.08462591, 1.04486394, 1.00845127, 1.05159683]),\n",
       " 'std_score_time': array([0.31656495, 0.04209927, 0.0903908 , 0.49880255, 0.03883472,\n",
       "        0.05306891, 0.27320834, 0.22165168, 0.06659136, 0.18342898,\n",
       "        0.21563906, 0.18802162, 0.27037016, 0.05274376, 0.20910579,\n",
       "        0.10657723, 0.09914216, 0.20204513, 0.04849968, 0.02626762,\n",
       "        0.11798766, 0.09186978, 0.31282457, 0.10817631, 0.26115447,\n",
       "        0.27215441, 0.29627021, 0.25452177, 0.16250732, 0.31766811,\n",
       "        0.14179028, 0.35936513, 0.28276225, 0.14539236, 0.07222347,\n",
       "        0.15214883, 0.22457521, 0.3736138 , 0.41998006, 0.2204704 ,\n",
       "        0.17448127, 0.12335815, 0.05351376, 0.06503744, 0.08725464]),\n",
       " 'param_rf__max_depth': masked_array(data=[7, 7, 7, 7, 7, 7, 7, 7, 7, 7, 7, 7, 7, 7, 7, 9, 9, 9,\n",
       "                    9, 9, 9, 9, 9, 9, 9, 9, 9, 9, 9, 9, 11, 11, 11, 11, 11,\n",
       "                    11, 11, 11, 11, 11, 11, 11, 11, 11, 11],\n",
       "              mask=[False, False, False, False, False, False, False, False,\n",
       "                    False, False, False, False, False, False, False, False,\n",
       "                    False, False, False, False, False, False, False, False,\n",
       "                    False, False, False, False, False, False, False, False,\n",
       "                    False, False, False, False, False, False, False, False,\n",
       "                    False, False, False, False, False],\n",
       "        fill_value='?',\n",
       "             dtype=object),\n",
       " 'param_rf__min_samples_leaf': masked_array(data=[1, 1, 1, 3, 3, 3, 5, 5, 5, 7, 7, 7, 9, 9, 9, 1, 1, 1,\n",
       "                    3, 3, 3, 5, 5, 5, 7, 7, 7, 9, 9, 9, 1, 1, 1, 3, 3, 3,\n",
       "                    5, 5, 5, 7, 7, 7, 9, 9, 9],\n",
       "              mask=[False, False, False, False, False, False, False, False,\n",
       "                    False, False, False, False, False, False, False, False,\n",
       "                    False, False, False, False, False, False, False, False,\n",
       "                    False, False, False, False, False, False, False, False,\n",
       "                    False, False, False, False, False, False, False, False,\n",
       "                    False, False, False, False, False],\n",
       "        fill_value='?',\n",
       "             dtype=object),\n",
       " 'param_rf__n_estimators': masked_array(data=[50, 100, 150, 50, 100, 150, 50, 100, 150, 50, 100, 150,\n",
       "                    50, 100, 150, 50, 100, 150, 50, 100, 150, 50, 100, 150,\n",
       "                    50, 100, 150, 50, 100, 150, 50, 100, 150, 50, 100, 150,\n",
       "                    50, 100, 150, 50, 100, 150, 50, 100, 150],\n",
       "              mask=[False, False, False, False, False, False, False, False,\n",
       "                    False, False, False, False, False, False, False, False,\n",
       "                    False, False, False, False, False, False, False, False,\n",
       "                    False, False, False, False, False, False, False, False,\n",
       "                    False, False, False, False, False, False, False, False,\n",
       "                    False, False, False, False, False],\n",
       "        fill_value='?',\n",
       "             dtype=object),\n",
       " 'params': [{'rf__max_depth': 7,\n",
       "   'rf__min_samples_leaf': 1,\n",
       "   'rf__n_estimators': 50},\n",
       "  {'rf__max_depth': 7, 'rf__min_samples_leaf': 1, 'rf__n_estimators': 100},\n",
       "  {'rf__max_depth': 7, 'rf__min_samples_leaf': 1, 'rf__n_estimators': 150},\n",
       "  {'rf__max_depth': 7, 'rf__min_samples_leaf': 3, 'rf__n_estimators': 50},\n",
       "  {'rf__max_depth': 7, 'rf__min_samples_leaf': 3, 'rf__n_estimators': 100},\n",
       "  {'rf__max_depth': 7, 'rf__min_samples_leaf': 3, 'rf__n_estimators': 150},\n",
       "  {'rf__max_depth': 7, 'rf__min_samples_leaf': 5, 'rf__n_estimators': 50},\n",
       "  {'rf__max_depth': 7, 'rf__min_samples_leaf': 5, 'rf__n_estimators': 100},\n",
       "  {'rf__max_depth': 7, 'rf__min_samples_leaf': 5, 'rf__n_estimators': 150},\n",
       "  {'rf__max_depth': 7, 'rf__min_samples_leaf': 7, 'rf__n_estimators': 50},\n",
       "  {'rf__max_depth': 7, 'rf__min_samples_leaf': 7, 'rf__n_estimators': 100},\n",
       "  {'rf__max_depth': 7, 'rf__min_samples_leaf': 7, 'rf__n_estimators': 150},\n",
       "  {'rf__max_depth': 7, 'rf__min_samples_leaf': 9, 'rf__n_estimators': 50},\n",
       "  {'rf__max_depth': 7, 'rf__min_samples_leaf': 9, 'rf__n_estimators': 100},\n",
       "  {'rf__max_depth': 7, 'rf__min_samples_leaf': 9, 'rf__n_estimators': 150},\n",
       "  {'rf__max_depth': 9, 'rf__min_samples_leaf': 1, 'rf__n_estimators': 50},\n",
       "  {'rf__max_depth': 9, 'rf__min_samples_leaf': 1, 'rf__n_estimators': 100},\n",
       "  {'rf__max_depth': 9, 'rf__min_samples_leaf': 1, 'rf__n_estimators': 150},\n",
       "  {'rf__max_depth': 9, 'rf__min_samples_leaf': 3, 'rf__n_estimators': 50},\n",
       "  {'rf__max_depth': 9, 'rf__min_samples_leaf': 3, 'rf__n_estimators': 100},\n",
       "  {'rf__max_depth': 9, 'rf__min_samples_leaf': 3, 'rf__n_estimators': 150},\n",
       "  {'rf__max_depth': 9, 'rf__min_samples_leaf': 5, 'rf__n_estimators': 50},\n",
       "  {'rf__max_depth': 9, 'rf__min_samples_leaf': 5, 'rf__n_estimators': 100},\n",
       "  {'rf__max_depth': 9, 'rf__min_samples_leaf': 5, 'rf__n_estimators': 150},\n",
       "  {'rf__max_depth': 9, 'rf__min_samples_leaf': 7, 'rf__n_estimators': 50},\n",
       "  {'rf__max_depth': 9, 'rf__min_samples_leaf': 7, 'rf__n_estimators': 100},\n",
       "  {'rf__max_depth': 9, 'rf__min_samples_leaf': 7, 'rf__n_estimators': 150},\n",
       "  {'rf__max_depth': 9, 'rf__min_samples_leaf': 9, 'rf__n_estimators': 50},\n",
       "  {'rf__max_depth': 9, 'rf__min_samples_leaf': 9, 'rf__n_estimators': 100},\n",
       "  {'rf__max_depth': 9, 'rf__min_samples_leaf': 9, 'rf__n_estimators': 150},\n",
       "  {'rf__max_depth': 11, 'rf__min_samples_leaf': 1, 'rf__n_estimators': 50},\n",
       "  {'rf__max_depth': 11, 'rf__min_samples_leaf': 1, 'rf__n_estimators': 100},\n",
       "  {'rf__max_depth': 11, 'rf__min_samples_leaf': 1, 'rf__n_estimators': 150},\n",
       "  {'rf__max_depth': 11, 'rf__min_samples_leaf': 3, 'rf__n_estimators': 50},\n",
       "  {'rf__max_depth': 11, 'rf__min_samples_leaf': 3, 'rf__n_estimators': 100},\n",
       "  {'rf__max_depth': 11, 'rf__min_samples_leaf': 3, 'rf__n_estimators': 150},\n",
       "  {'rf__max_depth': 11, 'rf__min_samples_leaf': 5, 'rf__n_estimators': 50},\n",
       "  {'rf__max_depth': 11, 'rf__min_samples_leaf': 5, 'rf__n_estimators': 100},\n",
       "  {'rf__max_depth': 11, 'rf__min_samples_leaf': 5, 'rf__n_estimators': 150},\n",
       "  {'rf__max_depth': 11, 'rf__min_samples_leaf': 7, 'rf__n_estimators': 50},\n",
       "  {'rf__max_depth': 11, 'rf__min_samples_leaf': 7, 'rf__n_estimators': 100},\n",
       "  {'rf__max_depth': 11, 'rf__min_samples_leaf': 7, 'rf__n_estimators': 150},\n",
       "  {'rf__max_depth': 11, 'rf__min_samples_leaf': 9, 'rf__n_estimators': 50},\n",
       "  {'rf__max_depth': 11, 'rf__min_samples_leaf': 9, 'rf__n_estimators': 100},\n",
       "  {'rf__max_depth': 11, 'rf__min_samples_leaf': 9, 'rf__n_estimators': 150}],\n",
       " 'split0_test_score': array([0.65721649, 0.65592784, 0.65463918, 0.65850515, 0.66237113,\n",
       "        0.65721649, 0.65721649, 0.65463918, 0.65721649, 0.65850515,\n",
       "        0.65979381, 0.66237113, 0.6507732 , 0.6507732 , 0.66365979,\n",
       "        0.66237113, 0.66237113, 0.66752577, 0.66108247, 0.66237113,\n",
       "        0.66365979, 0.66108247, 0.66365979, 0.67139175, 0.65592784,\n",
       "        0.66881443, 0.66623711, 0.67010309, 0.66108247, 0.66623711,\n",
       "        0.65979381, 0.66108247, 0.66752577, 0.66108247, 0.66881443,\n",
       "        0.66623711, 0.66365979, 0.66494845, 0.67139175, 0.66623711,\n",
       "        0.66494845, 0.65721649, 0.65721649, 0.67010309, 0.66494845]),\n",
       " 'split1_test_score': array([0.67783505, 0.68298969, 0.67654639, 0.66881443, 0.68298969,\n",
       "        0.68685567, 0.68298969, 0.67139175, 0.68298969, 0.67783505,\n",
       "        0.68298969, 0.67783505, 0.69201031, 0.68427835, 0.68170103,\n",
       "        0.68556701, 0.68814433, 0.68556701, 0.69072165, 0.69201031,\n",
       "        0.69072165, 0.68170103, 0.70231959, 0.68556701, 0.68041237,\n",
       "        0.68041237, 0.68298969, 0.67912371, 0.68556701, 0.69072165,\n",
       "        0.70103093, 0.68943299, 0.69587629, 0.70103093, 0.69587629,\n",
       "        0.69329897, 0.68685567, 0.68685567, 0.69329897, 0.69329897,\n",
       "        0.67912371, 0.68556701, 0.69458763, 0.68943299, 0.68685567]),\n",
       " 'split2_test_score': array([0.66967742, 0.67483871, 0.66709677, 0.67612903, 0.67096774,\n",
       "        0.66967742, 0.67612903, 0.67096774, 0.6683871 , 0.66709677,\n",
       "        0.67354839, 0.67225806, 0.67354839, 0.67096774, 0.67225806,\n",
       "        0.67483871, 0.67354839, 0.68129032, 0.68      , 0.67741935,\n",
       "        0.68516129, 0.67225806, 0.68774194, 0.68258065, 0.67096774,\n",
       "        0.67741935, 0.68387097, 0.67483871, 0.67483871, 0.67354839,\n",
       "        0.68      , 0.68129032, 0.67741935, 0.67870968, 0.68774194,\n",
       "        0.69032258, 0.67612903, 0.68      , 0.67612903, 0.67741935,\n",
       "        0.68      , 0.69032258, 0.68      , 0.68      , 0.67612903]),\n",
       " 'split3_test_score': array([0.66580645, 0.66967742, 0.6683871 , 0.66967742, 0.67225806,\n",
       "        0.65548387, 0.6683871 , 0.66322581, 0.66193548, 0.6683871 ,\n",
       "        0.66322581, 0.66193548, 0.65548387, 0.66193548, 0.66322581,\n",
       "        0.66451613, 0.66967742, 0.6683871 , 0.67354839, 0.66967742,\n",
       "        0.67483871, 0.67741935, 0.67096774, 0.67612903, 0.6683871 ,\n",
       "        0.66709677, 0.66580645, 0.67741935, 0.66580645, 0.66709677,\n",
       "        0.67096774, 0.68      , 0.68      , 0.67354839, 0.67612903,\n",
       "        0.67741935, 0.67483871, 0.67870968, 0.67483871, 0.66709677,\n",
       "        0.66967742, 0.68129032, 0.67354839, 0.66967742, 0.66967742]),\n",
       " 'split4_test_score': array([0.66322581, 0.66709677, 0.66967742, 0.66709677, 0.66709677,\n",
       "        0.67354839, 0.67354839, 0.66580645, 0.67354839, 0.6683871 ,\n",
       "        0.67483871, 0.66709677, 0.66967742, 0.66709677, 0.67225806,\n",
       "        0.66709677, 0.67870968, 0.67612903, 0.67870968, 0.67225806,\n",
       "        0.67483871, 0.68      , 0.67354839, 0.68258065, 0.66967742,\n",
       "        0.67483871, 0.6683871 , 0.67612903, 0.67096774, 0.66967742,\n",
       "        0.67612903, 0.66967742, 0.67483871, 0.67225806, 0.67612903,\n",
       "        0.68258065, 0.67612903, 0.67354839, 0.68129032, 0.67354839,\n",
       "        0.67354839, 0.67354839, 0.67225806, 0.67225806, 0.6683871 ]),\n",
       " 'mean_test_score': array([0.66675224, 0.67010609, 0.66726937, 0.66804456, 0.67113668,\n",
       "        0.66855637, 0.67165414, 0.66520619, 0.66881543, 0.66804223,\n",
       "        0.67087928, 0.6682993 , 0.66829864, 0.66701031, 0.67062055,\n",
       "        0.67087795, 0.67449019, 0.67577985, 0.67681244, 0.67474726,\n",
       "        0.67784403, 0.67449218, 0.67964749, 0.67964982, 0.66907449,\n",
       "        0.67371633, 0.67345826, 0.67552278, 0.67165248, 0.67345627,\n",
       "        0.6775843 , 0.67629664, 0.67913203, 0.67732591, 0.68093814,\n",
       "        0.68197173, 0.67552245, 0.67681244, 0.67938976, 0.67552012,\n",
       "        0.67345959, 0.67758896, 0.67552212, 0.67629431, 0.67319953]),\n",
       " 'std_test_score': array([0.00686507, 0.00892914, 0.00710863, 0.00566597, 0.00685471,\n",
       "        0.01149369, 0.00861657, 0.0061221 , 0.00900403, 0.00613167,\n",
       "        0.00837767, 0.00606118, 0.01458125, 0.01098409, 0.00680109,\n",
       "        0.00846867, 0.00866211, 0.00705774, 0.00964689, 0.00990173,\n",
       "        0.00936624, 0.00742541, 0.01376726, 0.00515333, 0.00782052,\n",
       "        0.00505284, 0.00819371, 0.0030585 , 0.00836823, 0.00899934,\n",
       "        0.01354975, 0.00986408, 0.00935088, 0.01317304, 0.00961956,\n",
       "        0.00966143, 0.00735347, 0.00729431, 0.0076471 , 0.0098052 ,\n",
       "        0.00568527, 0.01158325, 0.01210942, 0.00754669, 0.00772939]),\n",
       " 'rank_test_score': array([44, 34, 42, 40, 30, 37, 28, 45, 36, 41, 31, 38, 39, 43, 33, 32, 22,\n",
       "        15, 11, 20,  7, 21,  4,  3, 35, 23, 25, 16, 29, 26,  9, 13,  6, 10,\n",
       "         2,  1, 17, 11,  5, 19, 24,  8, 18, 14, 27])}"
      ]
     },
     "execution_count": 166,
     "metadata": {},
     "output_type": "execute_result"
    }
   ],
   "source": [
    "rf_grid1.cv_results_"
   ]
  },
  {
   "cell_type": "code",
   "execution_count": 167,
   "metadata": {},
   "outputs": [
    {
     "data": {
      "text/plain": [
       "{'rf__max_depth': 11, 'rf__min_samples_leaf': 3, 'rf__n_estimators': 150}"
      ]
     },
     "execution_count": 167,
     "metadata": {},
     "output_type": "execute_result"
    }
   ],
   "source": [
    "rf_grid1.best_params_"
   ]
  },
  {
   "cell_type": "code",
   "execution_count": 168,
   "metadata": {},
   "outputs": [
    {
     "data": {
      "text/plain": [
       "0.6819717326238777"
      ]
     },
     "execution_count": 168,
     "metadata": {},
     "output_type": "execute_result"
    }
   ],
   "source": [
    "rf_grid1.best_score_"
   ]
  },
  {
   "cell_type": "code",
   "execution_count": 173,
   "metadata": {},
   "outputs": [
    {
     "name": "stdout",
     "output_type": "stream",
     "text": [
      "random forest best model train score 0.8418880577766314\n",
      "random forest best model test score 0.6615067079463365\n"
     ]
    },
    {
     "data": {
      "image/png": "[encoded data removed]",
      "text/plain": [
       "<Figure size 432x288 with 2 Axes>"
      ]
     },
     "metadata": {
      "needs_background": "light"
     },
     "output_type": "display_data"
    }
   ],
   "source": [
    "rf_best=rf_grid.best_estimator_\n",
    "rf_best.fit(X_train,y_train)\n",
    "print(f'random forest best model train score {rf_best.score(X_train,y_train)}')\n",
    "print(f'random forest best model test score {rf_best.score(X_test,y_test)}')\n",
    "cm=confusion_matrix(y_test,rf_best.predict(X_test))\n",
    "labels=['bad','neutral','good']\n",
    "ConfusionMatrixDisplay(confusion_matrix=cm,display_labels=labels).plot()\n",
    "plt.show()"
   ]
  },
  {
   "cell_type": "code",
   "execution_count": 180,
   "metadata": {
    "scrolled": true
   },
   "outputs": [
    {
     "name": "stdout",
     "output_type": "stream",
     "text": [
      "random forest best model train score 0.9117874645344338\n",
      "random forest best model test score 0.6707946336429309\n"
     ]
    },
    {
     "data": {
      "image/png": "[encoded data removed]",
      "text/plain": [
       "<Figure size 432x288 with 2 Axes>"
      ]
     },
     "metadata": {
      "needs_background": "light"
     },
     "output_type": "display_data"
    }
   ],
   "source": [
    "rf_best=rf_grid1.best_estimator_\n",
    "rf_best.fit(X_train,y_train)\n",
    "print(f'random forest best model train score {rf_best.score(X_train,y_train)}')\n",
    "print(f'random forest best model test score {rf_best.score(X_test,y_test)}')\n",
    "cm=confusion_matrix(y_test,rf_best.predict(X_test))\n",
    "labels=['bad','neutral','good']\n",
    "ConfusionMatrixDisplay(confusion_matrix=cm,display_labels=labels).plot()\n",
    "plt.show()"
   ]
  },
  {
   "cell_type": "code",
   "execution_count": 213,
   "metadata": {},
   "outputs": [
    {
     "data": {
      "text/plain": [
       "1    0.598401\n",
       "2    0.277792\n",
       "0    0.123807\n",
       "Name: label, dtype: float64"
      ]
     },
     "execution_count": 213,
     "metadata": {},
     "output_type": "execute_result"
    }
   ],
   "source": [
    "# inspecting class distribution to develop smote strategy\n",
    "y_train.value_counts(normalize=True)"
   ]
  },
  {
   "cell_type": "code",
   "execution_count": 218,
   "metadata": {},
   "outputs": [
    {
     "data": {
      "text/plain": [
       "1    2320\n",
       "2    1077\n",
       "0     480\n",
       "Name: label, dtype: int64"
      ]
     },
     "execution_count": 218,
     "metadata": {},
     "output_type": "execute_result"
    }
   ],
   "source": [
    "y_train.value_counts()"
   ]
  },
  {
   "cell_type": "code",
   "execution_count": 219,
   "metadata": {},
   "outputs": [
    {
     "data": {
      "text/plain": [
       "3877"
      ]
     },
     "execution_count": 219,
     "metadata": {},
     "output_type": "execute_result"
    }
   ],
   "source": [
    "(2320+1077+480)"
   ]
  },
  {
   "cell_type": "code",
   "execution_count": 22,
   "metadata": {},
   "outputs": [],
   "source": [
    "smote_strategy={0:2320,1:2320,2:2500}\n",
    "smote=SMOTE(sampling_strategy=smote_strategy)"
   ]
  },
  {
   "cell_type": "code",
   "execution_count": 233,
   "metadata": {},
   "outputs": [
    {
     "data": {
      "text/plain": [
       "Pipeline(steps=[('preprocess', TextPreprocessor()),\n",
       "                ('glovevec', GloveAverageVectorizer()),\n",
       "                ('smote', SMOTE(sampling_strategy={0: 2320, 1: 2320, 2: 2500})),\n",
       "                ('rf',\n",
       "                 RandomForestClassifier(class_weight={0: 2320, 1: 2320,\n",
       "                                                      2: 2500},\n",
       "                                        max_depth=11, min_samples_leaf=3,\n",
       "                                        n_estimators=150))])"
      ]
     },
     "execution_count": 233,
     "metadata": {},
     "output_type": "execute_result"
    }
   ],
   "source": [
    "# implement SMOTE and the best random forest params so far - rf__max_depth': 11, 'rf__min_samples_leaf': 3, 'rf__n_estimators': 150 in pipeline to perform another gridsearch\n",
    "glove_steps=[('preprocess',TextPreprocessor()),('glovevec',GloveAverageVectorizer())] \n",
    "glove_steps.append(('smote',smote))\n",
    "glove_steps.append(('rf',RandomForestClassifier(n_estimators=150,min_samples_leaf=3,max_depth=11,class_weight=smote_strategy)))\n",
    "smote_rf_pipe=imbpipeline(steps=glove_steps)\n",
    "smote_rf_pipe\n"
   ]
  },
  {
   "cell_type": "code",
   "execution_count": 234,
   "metadata": {},
   "outputs": [
    {
     "name": "stdout",
     "output_type": "stream",
     "text": [
      "Glove, SMOTE and random forrest train score 0.9754965179262316\n",
      "Glove, SMOTE and random forrest test score 0.6852425180598555\n"
     ]
    },
    {
     "data": {
      "image/png": "[encoded data removed]",
      "text/plain": [
       "<Figure size 432x288 with 2 Axes>"
      ]
     },
     "metadata": {
      "needs_background": "light"
     },
     "output_type": "display_data"
    }
   ],
   "source": [
    "smote_rf_pipe.fit(X_train,y_train)\n",
    "print('Glove, SMOTE and random forrest train score', smote_rf_pipe.score(X_train,y_train))\n",
    "print('Glove, SMOTE and random forrest test score', smote_rf_pipe.score(X_test,y_test))\n",
    "cm=confusion_matrix(y_test,smote_rf_pipe.predict(X_test))\n",
    "labels=['bad','neutral','good']\n",
    "ConfusionMatrixDisplay(confusion_matrix=cm,display_labels=labels).plot()\n",
    "plt.show()"
   ]
  },
  {
   "cell_type": "code",
   "execution_count": 235,
   "metadata": {},
   "outputs": [],
   "source": [
    "rf_params2={'rf__n_estimators':[100,150,200],'rf__min_samples_leaf':[3,5,7,9],'rf__max_depth':[9,11,15,20]}\n",
    "rf_grid2=GridSearchCV(smote_rf_pipe,rf_params2,scoring='accuracy',cv=5)"
   ]
  },
  {
   "cell_type": "code",
   "execution_count": 236,
   "metadata": {
    "scrolled": true
   },
   "outputs": [
    {
     "data": {
      "text/plain": [
       "GridSearchCV(cv=5,\n",
       "             estimator=Pipeline(steps=[('preprocess', TextPreprocessor()),\n",
       "                                       ('glovevec', GloveAverageVectorizer()),\n",
       "                                       ('smote',\n",
       "                                        SMOTE(sampling_strategy={0: 2320,\n",
       "                                                                 1: 2320,\n",
       "                                                                 2: 2500})),\n",
       "                                       ('rf',\n",
       "                                        RandomForestClassifier(class_weight={0: 2320,\n",
       "                                                                             1: 2320,\n",
       "                                                                             2: 2500},\n",
       "                                                               max_depth=11,\n",
       "                                                               min_samples_leaf=3,\n",
       "                                                               n_estimators=150))]),\n",
       "             param_grid={'rf__max_depth': [9, 11, 15, 20],\n",
       "                         'rf__min_samples_leaf': [3, 5, 7, 9],\n",
       "                         'rf__n_estimators': [100, 150, 200]},\n",
       "             scoring='accuracy')"
      ]
     },
     "execution_count": 236,
     "metadata": {},
     "output_type": "execute_result"
    }
   ],
   "source": [
    "rf_grid2.fit(X_train,y_train)"
   ]
  },
  {
   "cell_type": "code",
   "execution_count": 237,
   "metadata": {},
   "outputs": [
    {
     "data": {
      "text/plain": [
       "{'rf__max_depth': 20, 'rf__min_samples_leaf': 3, 'rf__n_estimators': 200}"
      ]
     },
     "execution_count": 237,
     "metadata": {},
     "output_type": "execute_result"
    }
   ],
   "source": [
    "rf_grid2.best_params_"
   ]
  },
  {
   "cell_type": "code",
   "execution_count": 238,
   "metadata": {},
   "outputs": [
    {
     "data": {
      "text/plain": [
       "0.7103478550049884"
      ]
     },
     "execution_count": 238,
     "metadata": {},
     "output_type": "execute_result"
    }
   ],
   "source": [
    "rf_grid2.best_score_"
   ]
  },
  {
   "cell_type": "code",
   "execution_count": 239,
   "metadata": {},
   "outputs": [
    {
     "name": "stdout",
     "output_type": "stream",
     "text": [
      "random forest with SMOTE best model train score 0.9969048233169977\n",
      "random forest with SMOTE best model test score 0.6945304437564499\n"
     ]
    },
    {
     "data": {
      "image/png": "[encoded data removed]",
      "text/plain": [
       "<Figure size 432x288 with 2 Axes>"
      ]
     },
     "metadata": {
      "needs_background": "light"
     },
     "output_type": "display_data"
    }
   ],
   "source": [
    "# random forest best results\n",
    "rf_best=rf_grid2.best_estimator_\n",
    "rf_best.fit(X_train,y_train)\n",
    "print(f'random forest with SMOTE best model train score {rf_best.score(X_train,y_train)}')\n",
    "print(f'random forest with SMOTE best model test score {rf_best.score(X_test,y_test)}')\n",
    "cm=confusion_matrix(y_test,rf_best.predict(X_test))\n",
    "labels=['bad','neutral','good']\n",
    "ConfusionMatrixDisplay(confusion_matrix=cm,display_labels=labels).plot()\n",
    "plt.show()"
   ]
  },
  {
   "cell_type": "markdown",
   "metadata": {},
   "source": [
    "#### Support Vector Machine Classifier"
   ]
  },
  {
   "cell_type": "code",
   "execution_count": 23,
   "metadata": {},
   "outputs": [
    {
     "data": {
      "text/plain": [
       "Pipeline(steps=[('preprocess', TextPreprocessor()),\n",
       "                ('glovevec', GloveAverageVectorizer()),\n",
       "                ('smote', SMOTE(sampling_strategy={0: 2320, 1: 2320, 2: 2500})),\n",
       "                ('sc', StandardScaler()),\n",
       "                ('svc', SVC(class_weight={0: 2320, 1: 2320, 2: 2500}))])"
      ]
     },
     "execution_count": 23,
     "metadata": {},
     "output_type": "execute_result"
    }
   ],
   "source": [
    "glove_steps=[('preprocess',TextPreprocessor()),('glovevec',GloveAverageVectorizer())]\n",
    "glove_steps.append(('smote',smote))\n",
    "glove_steps.append(('sc',StandardScaler()))\n",
    "glove_steps.append(('svc',SVC(class_weight=smote_strategy)))\n",
    "svc_pipe=imbpipeline(glove_steps)\n",
    "svc_pipe"
   ]
  },
  {
   "cell_type": "code",
   "execution_count": 24,
   "metadata": {},
   "outputs": [
    {
     "name": "stdout",
     "output_type": "stream",
     "text": [
      "Glove, SMOTE and SVM train score 0.9992262058292494\n",
      "Glove, SMOTE and SVM test score 0.7409700722394221\n"
     ]
    },
    {
     "data": {
      "image/png": "[encoded data removed]",
      "text/plain": [
       "<Figure size 432x288 with 2 Axes>"
      ]
     },
     "metadata": {
      "needs_background": "light"
     },
     "output_type": "display_data"
    }
   ],
   "source": [
    "svc_pipe.fit(X_train,y_train)\n",
    "print('Glove, SMOTE and SVM train score', svc_pipe.score(X_train,y_train))\n",
    "print('Glove, SMOTE and SVM test score', svc_pipe.score(X_test,y_test))\n",
    "cm=confusion_matrix(y_test,svc_pipe.predict(X_test))\n",
    "labels=['bad','neutral','good']\n",
    "ConfusionMatrixDisplay(confusion_matrix=cm,display_labels=labels).plot()\n",
    "plt.show()"
   ]
  },
  {
   "cell_type": "code",
   "execution_count": 25,
   "metadata": {},
   "outputs": [
    {
     "data": {
      "text/plain": [
       "{'C': 1.0,\n",
       " 'break_ties': False,\n",
       " 'cache_size': 200,\n",
       " 'class_weight': {0: 2320, 1: 2320, 2: 2500},\n",
       " 'coef0': 0.0,\n",
       " 'decision_function_shape': 'ovr',\n",
       " 'degree': 3,\n",
       " 'gamma': 'scale',\n",
       " 'kernel': 'rbf',\n",
       " 'max_iter': -1,\n",
       " 'probability': False,\n",
       " 'random_state': None,\n",
       " 'shrinking': True,\n",
       " 'tol': 0.001,\n",
       " 'verbose': False}"
      ]
     },
     "execution_count": 25,
     "metadata": {},
     "output_type": "execute_result"
    }
   ],
   "source": [
    "svc_pipe['svc'].get_params()"
   ]
  },
  {
   "cell_type": "code",
   "execution_count": 26,
   "metadata": {},
   "outputs": [],
   "source": [
    "svc_params={'svc__C': [0.1, 1, 10, 100, 1000],'svc__gamma': [1, 0.1, 0.01, 0.001, 0.0001]}\n",
    "svc_grid=GridSearchCV(svc_pipe,svc_params,scoring='accuracy',cv=5)"
   ]
  },
  {
   "cell_type": "code",
   "execution_count": 27,
   "metadata": {},
   "outputs": [
    {
     "data": {
      "text/plain": [
       "GridSearchCV(cv=5,\n",
       "             estimator=Pipeline(steps=[('preprocess', TextPreprocessor()),\n",
       "                                       ('glovevec', GloveAverageVectorizer()),\n",
       "                                       ('smote',\n",
       "                                        SMOTE(sampling_strategy={0: 2320,\n",
       "                                                                 1: 2320,\n",
       "                                                                 2: 2500})),\n",
       "                                       ('sc', StandardScaler()),\n",
       "                                       ('svc',\n",
       "                                        SVC(class_weight={0: 2320, 1: 2320,\n",
       "                                                          2: 2500}))]),\n",
       "             param_grid={'svc__C': [0.1, 1, 10, 100, 1000],\n",
       "                         'svc__gamma': [1, 0.1, 0.01, 0.001, 0.0001]},\n",
       "             scoring='accuracy')"
      ]
     },
     "execution_count": 27,
     "metadata": {},
     "output_type": "execute_result"
    }
   ],
   "source": [
    "svc_grid.fit(X_train,y_train)"
   ]
  },
  {
   "cell_type": "code",
   "execution_count": 28,
   "metadata": {},
   "outputs": [
    {
     "data": {
      "text/plain": [
       "{'mean_fit_time': array([10.66945558, 11.22555466,  6.91044993,  8.40396442,  8.04768829,\n",
       "        11.07040524, 12.8584734 ,  6.3842268 ,  8.37326307,  9.10625424,\n",
       "         9.82965274, 10.45749245,  6.37693377,  8.49899201, 19.63366895,\n",
       "         9.96104493, 10.35566087,  6.39894137,  8.58379207, 31.2935524 ,\n",
       "        10.19067287, 10.67878804,  6.6985374 ,  8.81321301, 45.00164447]),\n",
       " 'std_fit_time': array([ 0.514161  ,  0.54760769,  0.603805  ,  0.64406518,  0.14840593,\n",
       "         0.51081423,  0.69580317,  0.1111696 ,  0.26196021,  0.14739763,\n",
       "         0.13109764,  0.42904567,  0.19238864,  0.2152698 ,  0.28358821,\n",
       "         0.16477319,  0.29788642,  0.17466565,  0.23821994,  1.77159423,\n",
       "         0.38678817,  0.27573602,  0.14578845,  0.36817769, 22.64539683]),\n",
       " 'mean_score_time': array([1.42974811, 1.48051562, 1.2102582 , 1.2551507 , 1.28228612,\n",
       "        1.5359273 , 1.44263177, 1.11352177, 1.09118395, 1.1330214 ,\n",
       "        1.31207976, 1.25999694, 1.14377408, 1.16457191, 1.16227269,\n",
       "        1.3835947 , 1.28062148, 1.14479375, 1.12188501, 1.07239671,\n",
       "        1.54305902, 1.3684299 , 1.17094297, 1.14336133, 1.12876   ]),\n",
       " 'std_score_time': array([0.07689888, 0.39459751, 0.04802547, 0.22559401, 0.04335229,\n",
       "        0.08819867, 0.10018445, 0.02112246, 0.03443585, 0.01785442,\n",
       "        0.01032482, 0.04001516, 0.0550705 , 0.10612394, 0.06716135,\n",
       "        0.12392311, 0.05295773, 0.04713067, 0.0547688 , 0.01802994,\n",
       "        0.47654368, 0.09536313, 0.03725095, 0.0214701 , 0.03131902]),\n",
       " 'param_svc__C': masked_array(data=[0.1, 0.1, 0.1, 0.1, 0.1, 1, 1, 1, 1, 1, 10, 10, 10, 10,\n",
       "                    10, 100, 100, 100, 100, 100, 1000, 1000, 1000, 1000,\n",
       "                    1000],\n",
       "              mask=[False, False, False, False, False, False, False, False,\n",
       "                    False, False, False, False, False, False, False, False,\n",
       "                    False, False, False, False, False, False, False, False,\n",
       "                    False],\n",
       "        fill_value='?',\n",
       "             dtype=object),\n",
       " 'param_svc__gamma': masked_array(data=[1, 0.1, 0.01, 0.001, 0.0001, 1, 0.1, 0.01, 0.001,\n",
       "                    0.0001, 1, 0.1, 0.01, 0.001, 0.0001, 1, 0.1, 0.01,\n",
       "                    0.001, 0.0001, 1, 0.1, 0.01, 0.001, 0.0001],\n",
       "              mask=[False, False, False, False, False, False, False, False,\n",
       "                    False, False, False, False, False, False, False, False,\n",
       "                    False, False, False, False, False, False, False, False,\n",
       "                    False],\n",
       "        fill_value='?',\n",
       "             dtype=object),\n",
       " 'params': [{'svc__C': 0.1, 'svc__gamma': 1},\n",
       "  {'svc__C': 0.1, 'svc__gamma': 0.1},\n",
       "  {'svc__C': 0.1, 'svc__gamma': 0.01},\n",
       "  {'svc__C': 0.1, 'svc__gamma': 0.001},\n",
       "  {'svc__C': 0.1, 'svc__gamma': 0.0001},\n",
       "  {'svc__C': 1, 'svc__gamma': 1},\n",
       "  {'svc__C': 1, 'svc__gamma': 0.1},\n",
       "  {'svc__C': 1, 'svc__gamma': 0.01},\n",
       "  {'svc__C': 1, 'svc__gamma': 0.001},\n",
       "  {'svc__C': 1, 'svc__gamma': 0.0001},\n",
       "  {'svc__C': 10, 'svc__gamma': 1},\n",
       "  {'svc__C': 10, 'svc__gamma': 0.1},\n",
       "  {'svc__C': 10, 'svc__gamma': 0.01},\n",
       "  {'svc__C': 10, 'svc__gamma': 0.001},\n",
       "  {'svc__C': 10, 'svc__gamma': 0.0001},\n",
       "  {'svc__C': 100, 'svc__gamma': 1},\n",
       "  {'svc__C': 100, 'svc__gamma': 0.1},\n",
       "  {'svc__C': 100, 'svc__gamma': 0.01},\n",
       "  {'svc__C': 100, 'svc__gamma': 0.001},\n",
       "  {'svc__C': 100, 'svc__gamma': 0.0001},\n",
       "  {'svc__C': 1000, 'svc__gamma': 1},\n",
       "  {'svc__C': 1000, 'svc__gamma': 0.1},\n",
       "  {'svc__C': 1000, 'svc__gamma': 0.01},\n",
       "  {'svc__C': 1000, 'svc__gamma': 0.001},\n",
       "  {'svc__C': 1000, 'svc__gamma': 0.0001}],\n",
       " 'split0_test_score': array([0.60438144, 0.64175258, 0.69974227, 0.69329897, 0.68814433,\n",
       "        0.60438144, 0.63659794, 0.70360825, 0.69845361, 0.7242268 ,\n",
       "        0.60438144, 0.64046392, 0.70489691, 0.69072165, 0.69845361,\n",
       "        0.60438144, 0.64046392, 0.72293814, 0.68685567, 0.69716495,\n",
       "        0.60438144, 0.64304124, 0.71649485, 0.68814433, 0.69201031]),\n",
       " 'split1_test_score': array([0.60824742, 0.65335052, 0.74226804, 0.71005155, 0.67654639,\n",
       "        0.60695876, 0.65206186, 0.73324742, 0.69845361, 0.71005155,\n",
       "        0.60824742, 0.6507732 , 0.73324742, 0.69329897, 0.69845361,\n",
       "        0.60824742, 0.65335052, 0.72809278, 0.68298969, 0.67783505,\n",
       "        0.60695876, 0.65335052, 0.72680412, 0.69072165, 0.67525773]),\n",
       " 'split2_test_score': array([0.60774194, 0.63612903, 0.76129032, 0.74967742, 0.68516129,\n",
       "        0.60774194, 0.63483871, 0.75354839, 0.74064516, 0.71741935,\n",
       "        0.60774194, 0.63483871, 0.75612903, 0.72516129, 0.73806452,\n",
       "        0.60774194, 0.63483871, 0.75225806, 0.73032258, 0.71870968,\n",
       "        0.60774194, 0.63483871, 0.75225806, 0.73548387, 0.72516129]),\n",
       " 'split3_test_score': array([0.60645161, 0.63096774, 0.72129032, 0.70580645, 0.67741935,\n",
       "        0.60645161, 0.63483871, 0.72129032, 0.68516129, 0.71354839,\n",
       "        0.60645161, 0.63096774, 0.72      , 0.68645161, 0.69290323,\n",
       "        0.60645161, 0.63354839, 0.71870968, 0.68129032, 0.67741935,\n",
       "        0.60645161, 0.63225806, 0.71870968, 0.69032258, 0.67354839]),\n",
       " 'split4_test_score': array([0.6116129 , 0.63225806, 0.73290323, 0.71870968, 0.67612903,\n",
       "        0.6116129 , 0.63741935, 0.73935484, 0.7083871 , 0.70709677,\n",
       "        0.6116129 , 0.63225806, 0.73548387, 0.70064516, 0.69806452,\n",
       "        0.6116129 , 0.63225806, 0.72258065, 0.70193548, 0.69548387,\n",
       "        0.6116129 , 0.63483871, 0.74580645, 0.70064516, 0.70580645]),\n",
       " 'mean_test_score': array([0.60768706, 0.63889159, 0.73149884, 0.71550881, 0.68068008,\n",
       "        0.60742933, 0.63915131, 0.73020984, 0.70622015, 0.71446857,\n",
       "        0.60768706, 0.63786033, 0.72995145, 0.69925574, 0.70518789,\n",
       "        0.60768706, 0.63889192, 0.72891586, 0.69667875, 0.69332258,\n",
       "        0.60742933, 0.63966545, 0.73201463, 0.70106352, 0.69435683]),\n",
       " 'std_test_score': array([0.00237414, 0.00814455, 0.02058239, 0.01894695, 0.00498454,\n",
       "        0.00236926, 0.00653297, 0.01688045, 0.01872907, 0.00597713,\n",
       "        0.00237414, 0.00723248, 0.01704992, 0.01374982, 0.01657244,\n",
       "        0.00237414, 0.00775257, 0.01204633, 0.01833154, 0.01520997,\n",
       "        0.00236926, 0.00774779, 0.01445715, 0.01774352, 0.01940764]),\n",
       " 'rank_test_score': array([21, 19,  2,  6, 15, 24, 17,  3,  8,  7, 21, 20,  4, 11,  9, 21, 18,\n",
       "         5, 12, 14, 24, 16,  1, 10, 13])}"
      ]
     },
     "execution_count": 28,
     "metadata": {},
     "output_type": "execute_result"
    }
   ],
   "source": [
    "svc_grid.cv_results_"
   ]
  },
  {
   "cell_type": "code",
   "execution_count": 29,
   "metadata": {},
   "outputs": [
    {
     "data": {
      "text/plain": [
       "{'svc__C': 1000, 'svc__gamma': 0.01}"
      ]
     },
     "execution_count": 29,
     "metadata": {},
     "output_type": "execute_result"
    }
   ],
   "source": [
    "svc_grid.best_params_"
   ]
  },
  {
   "cell_type": "code",
   "execution_count": 30,
   "metadata": {},
   "outputs": [
    {
     "data": {
      "text/plain": [
       "0.7320146325241105"
      ]
     },
     "execution_count": 30,
     "metadata": {},
     "output_type": "execute_result"
    }
   ],
   "source": [
    "svc_grid.best_score_"
   ]
  },
  {
   "cell_type": "code",
   "execution_count": 31,
   "metadata": {},
   "outputs": [
    {
     "name": "stdout",
     "output_type": "stream",
     "text": [
      "Glove, SMOTE best SVM train score 0.9992262058292494\n",
      "Glove, SMOTE best SVM test score 0.7430340557275542\n"
     ]
    },
    {
     "data": {
      "image/png": "[encoded data removed]",
      "text/plain": [
       "<Figure size 432x288 with 2 Axes>"
      ]
     },
     "metadata": {
      "needs_background": "light"
     },
     "output_type": "display_data"
    }
   ],
   "source": [
    "# best SVC results\n",
    "svc_best=svc_grid.best_estimator_\n",
    "svc_best.fit(X_train,y_train)\n",
    "print('Glove, SMOTE best SVM train score', svc_best.score(X_train,y_train))\n",
    "print('Glove, SMOTE best SVM test score', svc_best.score(X_test,y_test))\n",
    "cm=confusion_matrix(y_test,svc_best.predict(X_test))\n",
    "labels=['bad','neutral','good']\n",
    "ConfusionMatrixDisplay(confusion_matrix=cm,display_labels=labels).plot()\n",
    "plt.show()"
   ]
  },
  {
   "cell_type": "markdown",
   "metadata": {},
   "source": [
    "#### XGBoost Classifier"
   ]
  },
  {
   "cell_type": "code",
   "execution_count": 249,
   "metadata": {},
   "outputs": [
    {
     "data": {
      "text/plain": [
       "Pipeline(steps=[('preprocess', TextPreprocessor()),\n",
       "                ('glovevec', GloveAverageVectorizer()),\n",
       "                ('smote', SMOTE(sampling_strategy={0: 2320, 1: 2320, 2: 2500})),\n",
       "                ('xgb',\n",
       "                 XGBClassifier(base_score=None, booster=None,\n",
       "                               colsample_bylevel=None, colsample_bynode=None,\n",
       "                               colsample_bytree=None, gamma=None, gpu_id=None,\n",
       "                               importance_type='gain',\n",
       "                               interaction_constraints=None, learning_rate=None,\n",
       "                               max_delta_step=None, max_depth=None,\n",
       "                               min_child_weight=None, missing=nan,\n",
       "                               monotone_constraints=None, n_estimators=100,\n",
       "                               n_jobs=None, num_parallel_tree=None,\n",
       "                               random_state=None, reg_alpha=None,\n",
       "                               reg_lambda=None, scale_pos_weight=None,\n",
       "                               subsample=None, tree_method=None,\n",
       "                               validate_parameters=None, verbosity=None))])"
      ]
     },
     "execution_count": 249,
     "metadata": {},
     "output_type": "execute_result"
    }
   ],
   "source": [
    "glove_steps=[('preprocess',TextPreprocessor()),('glovevec',GloveAverageVectorizer())]\n",
    "glove_steps.append(('smote',smote))\n",
    "glove_steps.append(('xgb',XGBClassifier()))\n",
    "xgb_pipe=imbpipeline(glove_steps)\n",
    "xgb_pipe"
   ]
  },
  {
   "cell_type": "code",
   "execution_count": 250,
   "metadata": {},
   "outputs": [
    {
     "name": "stdout",
     "output_type": "stream",
     "text": [
      "Glove, SMOTE and XBG train score 0.9992262058292494\n",
      "Glove, SMOTE and XBG test score 0.7089783281733746\n"
     ]
    },
    {
     "data": {
      "image/png": "[encoded data removed]",
      "text/plain": [
       "<Figure size 432x288 with 2 Axes>"
      ]
     },
     "metadata": {
      "needs_background": "light"
     },
     "output_type": "display_data"
    }
   ],
   "source": [
    "xgb_pipe.fit(X_train,y_train)\n",
    "print('Glove, SMOTE and XBG train score', xgb_pipe.score(X_train,y_train))\n",
    "print('Glove, SMOTE and XBG test score', xgb_pipe.score(X_test,y_test))\n",
    "cm=confusion_matrix(y_test,xgb_pipe.predict(X_test))\n",
    "labels=['bad','neutral','good']\n",
    "ConfusionMatrixDisplay(confusion_matrix=cm,display_labels=labels).plot()\n",
    "plt.show()"
   ]
  },
  {
   "cell_type": "code",
   "execution_count": 251,
   "metadata": {},
   "outputs": [
    {
     "data": {
      "text/plain": [
       "{'objective': 'multi:softprob',\n",
       " 'base_score': 0.5,\n",
       " 'booster': 'gbtree',\n",
       " 'colsample_bylevel': 1,\n",
       " 'colsample_bynode': 1,\n",
       " 'colsample_bytree': 1,\n",
       " 'gamma': 0,\n",
       " 'gpu_id': -1,\n",
       " 'importance_type': 'gain',\n",
       " 'interaction_constraints': '',\n",
       " 'learning_rate': 0.300000012,\n",
       " 'max_delta_step': 0,\n",
       " 'max_depth': 6,\n",
       " 'min_child_weight': 1,\n",
       " 'missing': nan,\n",
       " 'monotone_constraints': '()',\n",
       " 'n_estimators': 100,\n",
       " 'n_jobs': 0,\n",
       " 'num_parallel_tree': 1,\n",
       " 'random_state': 0,\n",
       " 'reg_alpha': 0,\n",
       " 'reg_lambda': 1,\n",
       " 'scale_pos_weight': None,\n",
       " 'subsample': 1,\n",
       " 'tree_method': 'exact',\n",
       " 'validate_parameters': 1,\n",
       " 'verbosity': None}"
      ]
     },
     "execution_count": 251,
     "metadata": {},
     "output_type": "execute_result"
    }
   ],
   "source": [
    "xgb_pipe['xgb'].get_params()"
   ]
  },
  {
   "cell_type": "code",
   "execution_count": 252,
   "metadata": {},
   "outputs": [],
   "source": [
    "xgb_params = {'xgb__max_depth': [3,4,5], 'xgb__learning_rate': [.1, .3, .5],\n",
    "          'xgb__gamma': [0,5,10], 'xgb__n_estimators': [50,100,150]}\n",
    "xgb_grid = GridSearchCV(estimator = xgb_pipe, scoring='accuracy',\n",
    "                  param_grid = xgb_params, cv = 5)"
   ]
  },
  {
   "cell_type": "code",
   "execution_count": 253,
   "metadata": {},
   "outputs": [
    {
     "data": {
      "text/plain": [
       "GridSearchCV(cv=5,\n",
       "             estimator=Pipeline(steps=[('preprocess', TextPreprocessor()),\n",
       "                                       ('glovevec', GloveAverageVectorizer()),\n",
       "                                       ('smote',\n",
       "                                        SMOTE(sampling_strategy={0: 2320,\n",
       "                                                                 1: 2320,\n",
       "                                                                 2: 2500})),\n",
       "                                       ('xgb',\n",
       "                                        XGBClassifier(base_score=0.5,\n",
       "                                                      booster='gbtree',\n",
       "                                                      colsample_bylevel=1,\n",
       "                                                      colsample_bynode=1,\n",
       "                                                      colsample_bytree=1,\n",
       "                                                      gamma=0, gpu_id=-1,\n",
       "                                                      importance_type='gain',\n",
       "                                                      interaction_constraints=...\n",
       "                                                      n_estimators=100,\n",
       "                                                      n_jobs=0,\n",
       "                                                      num_parallel_tree=1,\n",
       "                                                      objective='multi:softprob',\n",
       "                                                      random_state=0,\n",
       "                                                      reg_alpha=0, reg_lambda=1,\n",
       "                                                      scale_pos_weight=None,\n",
       "                                                      subsample=1,\n",
       "                                                      tree_method='exact',\n",
       "                                                      validate_parameters=1,\n",
       "                                                      verbosity=None))]),\n",
       "             param_grid={'xgb__gamma': [0, 5, 10],\n",
       "                         'xgb__learning_rate': [0.1, 0.3, 0.5],\n",
       "                         'xgb__max_depth': [3, 4, 5],\n",
       "                         'xgb__n_estimators': [50, 100, 150]},\n",
       "             scoring='accuracy')"
      ]
     },
     "execution_count": 253,
     "metadata": {},
     "output_type": "execute_result"
    }
   ],
   "source": [
    "xgb_grid.fit(X_train,y_train)"
   ]
  },
  {
   "cell_type": "code",
   "execution_count": 254,
   "metadata": {},
   "outputs": [
    {
     "data": {
      "text/plain": [
       "{'mean_fit_time': array([ 7.37226195,  7.64058304,  9.7893549 ,  7.81679807,  9.2410634 ,\n",
       "        11.34175906,  8.76408911, 10.25490789, 12.64073944,  6.82057028,\n",
       "         9.27685919, 14.32285318, 10.62132726, 12.82079716, 11.61989827,\n",
       "         9.3090632 , 10.12791767, 12.49612589,  6.99801474,  8.4982482 ,\n",
       "         8.9900815 ,  8.20962334,  9.30153193, 10.91670918,  7.78889375,\n",
       "         9.45597587, 11.79473734,  8.32524137,  8.34175191,  9.14035382,\n",
       "         7.69585805,  9.70362678, 11.15032163,  8.14716506, 10.2074398 ,\n",
       "        12.29371576,  7.63943062,  7.96144848,  9.91775107,  7.29366684,\n",
       "         8.23255429, 10.81259274,  7.74159479,  9.80963535, 12.08507357,\n",
       "         7.21673803,  8.31657848,  9.17707748,  7.07790885,  8.54788823,\n",
       "        10.1139348 ,  7.80326152,  9.19654093, 11.15610199,  6.87988453,\n",
       "         8.20242634,  9.11697183,  7.41395721,  8.38540339,  9.90944614,\n",
       "         7.49398885,  9.56067266, 11.36624393,  7.16661458,  7.51573496,\n",
       "         8.81309333,  7.17708373, 10.03434229, 12.84637694,  8.04208188,\n",
       "        12.13563647, 14.63580642,  6.75119157,  8.53338838, 10.97105174,\n",
       "         8.07802634, 10.31743007, 11.43574829,  6.7501945 , 10.55429521,\n",
       "        11.24784083]),\n",
       " 'std_fit_time': array([0.37222681, 0.26891133, 0.58462515, 0.73434519, 0.31864273,\n",
       "        0.81852979, 1.21170642, 0.41948679, 1.12805073, 0.42359201,\n",
       "        1.46373001, 1.54436602, 1.72359126, 2.87786751, 1.15474926,\n",
       "        0.76658828, 0.74111678, 1.27931597, 0.37238285, 0.96873555,\n",
       "        1.51055976, 0.45325242, 0.72681715, 0.72491406, 0.56724443,\n",
       "        0.61038899, 0.39016019, 0.78112017, 0.44175166, 0.43387666,\n",
       "        0.34816122, 0.42448978, 0.45472896, 0.72864442, 0.970787  ,\n",
       "        1.46903818, 0.82283889, 0.73417098, 0.96654566, 0.44636829,\n",
       "        0.39505908, 0.73332596, 0.74121904, 0.52250078, 0.56068856,\n",
       "        0.56861038, 0.27486609, 0.53291583, 0.34329826, 0.9193326 ,\n",
       "        0.23045348, 0.30435125, 0.43869962, 0.49034519, 0.30425694,\n",
       "        0.53074125, 0.43278693, 0.52522657, 0.15075936, 0.25622067,\n",
       "        0.42296218, 0.29587277, 0.79425597, 0.83081987, 0.24781148,\n",
       "        0.28624427, 0.61273696, 1.30044522, 0.35872521, 0.08096687,\n",
       "        0.73836039, 0.43973407, 0.18766679, 0.07884997, 0.52296803,\n",
       "        0.66198283, 1.76392589, 2.06297257, 0.31217843, 0.76887034,\n",
       "        0.44380251]),\n",
       " 'mean_score_time': array([1.29818373, 1.23731418, 1.32555165, 1.45618834, 1.28304362,\n",
       "        1.4090827 , 1.34677539, 1.44592271, 1.29824338, 1.1969193 ,\n",
       "        1.59438624, 1.73358688, 2.43359399, 1.97415462, 1.60071154,\n",
       "        1.72031646, 1.35182981, 1.30674572, 1.30819602, 1.33353038,\n",
       "        1.32220588, 1.35024643, 1.41063981, 1.54995837, 1.19520369,\n",
       "        1.20797172, 1.47714348, 1.42173724, 1.37995763, 1.3903235 ,\n",
       "        1.39154902, 1.51531758, 1.57811332, 1.3247654 , 1.1573071 ,\n",
       "        1.34987793, 1.47905107, 1.26928811, 1.65879655, 1.23460708,\n",
       "        1.41628675, 1.34591565, 1.25739961, 1.18577518, 1.30652604,\n",
       "        1.40590034, 1.31089559, 1.20990572, 1.17185822, 1.1884479 ,\n",
       "        1.3044457 , 1.26100116, 1.14312372, 1.18251839, 1.31939206,\n",
       "        1.338586  , 1.38070226, 1.24814487, 1.1375896 , 1.26122508,\n",
       "        1.23318114, 1.34993043, 1.2933856 , 1.34458866, 1.13774586,\n",
       "        1.17462401, 1.20757685, 1.84688745, 1.19159751, 1.14317727,\n",
       "        1.32408404, 1.163276  , 1.12801452, 1.10839362, 1.70826979,\n",
       "        1.47280803, 1.45178814, 1.33561163, 1.29852724, 1.33082361,\n",
       "        1.18138094]),\n",
       " 'std_score_time': array([0.1206023 , 0.20191327, 0.11206454, 0.27556919, 0.07709389,\n",
       "        0.19669815, 0.07798411, 0.16719268, 0.09636724, 0.08363374,\n",
       "        0.37112496, 0.158451  , 1.15287302, 0.70296805, 0.40796956,\n",
       "        0.31579846, 0.19900711, 0.21545437, 0.05335838, 0.36871317,\n",
       "        0.33211505, 0.1804267 , 0.10055532, 0.40164839, 0.11887279,\n",
       "        0.15694917, 0.18244028, 0.05464892, 0.14280988, 0.16408037,\n",
       "        0.23369755, 0.08310848, 0.13984294, 0.15155477, 0.09338635,\n",
       "        0.35176891, 0.37317706, 0.17477786, 0.09612511, 0.11681178,\n",
       "        0.22887653, 0.08323286, 0.19035563, 0.07324314, 0.0985755 ,\n",
       "        0.24025254, 0.09222907, 0.09879439, 0.05079956, 0.07482353,\n",
       "        0.05688959, 0.11070923, 0.03864273, 0.10354327, 0.14660163,\n",
       "        0.16595577, 0.2582001 , 0.08552993, 0.04544667, 0.13449577,\n",
       "        0.15388126, 0.21066898, 0.18663247, 0.16415728, 0.04586388,\n",
       "        0.06096712, 0.04487287, 0.28636979, 0.09681659, 0.03371338,\n",
       "        0.26503066, 0.07872693, 0.01315272, 0.02571055, 0.74361353,\n",
       "        0.38102614, 0.41657387, 0.27108812, 0.34460553, 0.12263362,\n",
       "        0.08151894]),\n",
       " 'param_xgb__gamma': masked_array(data=[0, 0, 0, 0, 0, 0, 0, 0, 0, 0, 0, 0, 0, 0, 0, 0, 0, 0,\n",
       "                    0, 0, 0, 0, 0, 0, 0, 0, 0, 5, 5, 5, 5, 5, 5, 5, 5, 5,\n",
       "                    5, 5, 5, 5, 5, 5, 5, 5, 5, 5, 5, 5, 5, 5, 5, 5, 5, 5,\n",
       "                    10, 10, 10, 10, 10, 10, 10, 10, 10, 10, 10, 10, 10, 10,\n",
       "                    10, 10, 10, 10, 10, 10, 10, 10, 10, 10, 10, 10, 10],\n",
       "              mask=[False, False, False, False, False, False, False, False,\n",
       "                    False, False, False, False, False, False, False, False,\n",
       "                    False, False, False, False, False, False, False, False,\n",
       "                    False, False, False, False, False, False, False, False,\n",
       "                    False, False, False, False, False, False, False, False,\n",
       "                    False, False, False, False, False, False, False, False,\n",
       "                    False, False, False, False, False, False, False, False,\n",
       "                    False, False, False, False, False, False, False, False,\n",
       "                    False, False, False, False, False, False, False, False,\n",
       "                    False, False, False, False, False, False, False, False,\n",
       "                    False],\n",
       "        fill_value='?',\n",
       "             dtype=object),\n",
       " 'param_xgb__learning_rate': masked_array(data=[0.1, 0.1, 0.1, 0.1, 0.1, 0.1, 0.1, 0.1, 0.1, 0.3, 0.3,\n",
       "                    0.3, 0.3, 0.3, 0.3, 0.3, 0.3, 0.3, 0.5, 0.5, 0.5, 0.5,\n",
       "                    0.5, 0.5, 0.5, 0.5, 0.5, 0.1, 0.1, 0.1, 0.1, 0.1, 0.1,\n",
       "                    0.1, 0.1, 0.1, 0.3, 0.3, 0.3, 0.3, 0.3, 0.3, 0.3, 0.3,\n",
       "                    0.3, 0.5, 0.5, 0.5, 0.5, 0.5, 0.5, 0.5, 0.5, 0.5, 0.1,\n",
       "                    0.1, 0.1, 0.1, 0.1, 0.1, 0.1, 0.1, 0.1, 0.3, 0.3, 0.3,\n",
       "                    0.3, 0.3, 0.3, 0.3, 0.3, 0.3, 0.5, 0.5, 0.5, 0.5, 0.5,\n",
       "                    0.5, 0.5, 0.5, 0.5],\n",
       "              mask=[False, False, False, False, False, False, False, False,\n",
       "                    False, False, False, False, False, False, False, False,\n",
       "                    False, False, False, False, False, False, False, False,\n",
       "                    False, False, False, False, False, False, False, False,\n",
       "                    False, False, False, False, False, False, False, False,\n",
       "                    False, False, False, False, False, False, False, False,\n",
       "                    False, False, False, False, False, False, False, False,\n",
       "                    False, False, False, False, False, False, False, False,\n",
       "                    False, False, False, False, False, False, False, False,\n",
       "                    False, False, False, False, False, False, False, False,\n",
       "                    False],\n",
       "        fill_value='?',\n",
       "             dtype=object),\n",
       " 'param_xgb__max_depth': masked_array(data=[3, 3, 3, 4, 4, 4, 5, 5, 5, 3, 3, 3, 4, 4, 4, 5, 5, 5,\n",
       "                    3, 3, 3, 4, 4, 4, 5, 5, 5, 3, 3, 3, 4, 4, 4, 5, 5, 5,\n",
       "                    3, 3, 3, 4, 4, 4, 5, 5, 5, 3, 3, 3, 4, 4, 4, 5, 5, 5,\n",
       "                    3, 3, 3, 4, 4, 4, 5, 5, 5, 3, 3, 3, 4, 4, 4, 5, 5, 5,\n",
       "                    3, 3, 3, 4, 4, 4, 5, 5, 5],\n",
       "              mask=[False, False, False, False, False, False, False, False,\n",
       "                    False, False, False, False, False, False, False, False,\n",
       "                    False, False, False, False, False, False, False, False,\n",
       "                    False, False, False, False, False, False, False, False,\n",
       "                    False, False, False, False, False, False, False, False,\n",
       "                    False, False, False, False, False, False, False, False,\n",
       "                    False, False, False, False, False, False, False, False,\n",
       "                    False, False, False, False, False, False, False, False,\n",
       "                    False, False, False, False, False, False, False, False,\n",
       "                    False, False, False, False, False, False, False, False,\n",
       "                    False],\n",
       "        fill_value='?',\n",
       "             dtype=object),\n",
       " 'param_xgb__n_estimators': masked_array(data=[50, 100, 150, 50, 100, 150, 50, 100, 150, 50, 100, 150,\n",
       "                    50, 100, 150, 50, 100, 150, 50, 100, 150, 50, 100, 150,\n",
       "                    50, 100, 150, 50, 100, 150, 50, 100, 150, 50, 100, 150,\n",
       "                    50, 100, 150, 50, 100, 150, 50, 100, 150, 50, 100, 150,\n",
       "                    50, 100, 150, 50, 100, 150, 50, 100, 150, 50, 100, 150,\n",
       "                    50, 100, 150, 50, 100, 150, 50, 100, 150, 50, 100, 150,\n",
       "                    50, 100, 150, 50, 100, 150, 50, 100, 150],\n",
       "              mask=[False, False, False, False, False, False, False, False,\n",
       "                    False, False, False, False, False, False, False, False,\n",
       "                    False, False, False, False, False, False, False, False,\n",
       "                    False, False, False, False, False, False, False, False,\n",
       "                    False, False, False, False, False, False, False, False,\n",
       "                    False, False, False, False, False, False, False, False,\n",
       "                    False, False, False, False, False, False, False, False,\n",
       "                    False, False, False, False, False, False, False, False,\n",
       "                    False, False, False, False, False, False, False, False,\n",
       "                    False, False, False, False, False, False, False, False,\n",
       "                    False],\n",
       "        fill_value='?',\n",
       "             dtype=object),\n",
       " 'params': [{'xgb__gamma': 0,\n",
       "   'xgb__learning_rate': 0.1,\n",
       "   'xgb__max_depth': 3,\n",
       "   'xgb__n_estimators': 50},\n",
       "  {'xgb__gamma': 0,\n",
       "   'xgb__learning_rate': 0.1,\n",
       "   'xgb__max_depth': 3,\n",
       "   'xgb__n_estimators': 100},\n",
       "  {'xgb__gamma': 0,\n",
       "   'xgb__learning_rate': 0.1,\n",
       "   'xgb__max_depth': 3,\n",
       "   'xgb__n_estimators': 150},\n",
       "  {'xgb__gamma': 0,\n",
       "   'xgb__learning_rate': 0.1,\n",
       "   'xgb__max_depth': 4,\n",
       "   'xgb__n_estimators': 50},\n",
       "  {'xgb__gamma': 0,\n",
       "   'xgb__learning_rate': 0.1,\n",
       "   'xgb__max_depth': 4,\n",
       "   'xgb__n_estimators': 100},\n",
       "  {'xgb__gamma': 0,\n",
       "   'xgb__learning_rate': 0.1,\n",
       "   'xgb__max_depth': 4,\n",
       "   'xgb__n_estimators': 150},\n",
       "  {'xgb__gamma': 0,\n",
       "   'xgb__learning_rate': 0.1,\n",
       "   'xgb__max_depth': 5,\n",
       "   'xgb__n_estimators': 50},\n",
       "  {'xgb__gamma': 0,\n",
       "   'xgb__learning_rate': 0.1,\n",
       "   'xgb__max_depth': 5,\n",
       "   'xgb__n_estimators': 100},\n",
       "  {'xgb__gamma': 0,\n",
       "   'xgb__learning_rate': 0.1,\n",
       "   'xgb__max_depth': 5,\n",
       "   'xgb__n_estimators': 150},\n",
       "  {'xgb__gamma': 0,\n",
       "   'xgb__learning_rate': 0.3,\n",
       "   'xgb__max_depth': 3,\n",
       "   'xgb__n_estimators': 50},\n",
       "  {'xgb__gamma': 0,\n",
       "   'xgb__learning_rate': 0.3,\n",
       "   'xgb__max_depth': 3,\n",
       "   'xgb__n_estimators': 100},\n",
       "  {'xgb__gamma': 0,\n",
       "   'xgb__learning_rate': 0.3,\n",
       "   'xgb__max_depth': 3,\n",
       "   'xgb__n_estimators': 150},\n",
       "  {'xgb__gamma': 0,\n",
       "   'xgb__learning_rate': 0.3,\n",
       "   'xgb__max_depth': 4,\n",
       "   'xgb__n_estimators': 50},\n",
       "  {'xgb__gamma': 0,\n",
       "   'xgb__learning_rate': 0.3,\n",
       "   'xgb__max_depth': 4,\n",
       "   'xgb__n_estimators': 100},\n",
       "  {'xgb__gamma': 0,\n",
       "   'xgb__learning_rate': 0.3,\n",
       "   'xgb__max_depth': 4,\n",
       "   'xgb__n_estimators': 150},\n",
       "  {'xgb__gamma': 0,\n",
       "   'xgb__learning_rate': 0.3,\n",
       "   'xgb__max_depth': 5,\n",
       "   'xgb__n_estimators': 50},\n",
       "  {'xgb__gamma': 0,\n",
       "   'xgb__learning_rate': 0.3,\n",
       "   'xgb__max_depth': 5,\n",
       "   'xgb__n_estimators': 100},\n",
       "  {'xgb__gamma': 0,\n",
       "   'xgb__learning_rate': 0.3,\n",
       "   'xgb__max_depth': 5,\n",
       "   'xgb__n_estimators': 150},\n",
       "  {'xgb__gamma': 0,\n",
       "   'xgb__learning_rate': 0.5,\n",
       "   'xgb__max_depth': 3,\n",
       "   'xgb__n_estimators': 50},\n",
       "  {'xgb__gamma': 0,\n",
       "   'xgb__learning_rate': 0.5,\n",
       "   'xgb__max_depth': 3,\n",
       "   'xgb__n_estimators': 100},\n",
       "  {'xgb__gamma': 0,\n",
       "   'xgb__learning_rate': 0.5,\n",
       "   'xgb__max_depth': 3,\n",
       "   'xgb__n_estimators': 150},\n",
       "  {'xgb__gamma': 0,\n",
       "   'xgb__learning_rate': 0.5,\n",
       "   'xgb__max_depth': 4,\n",
       "   'xgb__n_estimators': 50},\n",
       "  {'xgb__gamma': 0,\n",
       "   'xgb__learning_rate': 0.5,\n",
       "   'xgb__max_depth': 4,\n",
       "   'xgb__n_estimators': 100},\n",
       "  {'xgb__gamma': 0,\n",
       "   'xgb__learning_rate': 0.5,\n",
       "   'xgb__max_depth': 4,\n",
       "   'xgb__n_estimators': 150},\n",
       "  {'xgb__gamma': 0,\n",
       "   'xgb__learning_rate': 0.5,\n",
       "   'xgb__max_depth': 5,\n",
       "   'xgb__n_estimators': 50},\n",
       "  {'xgb__gamma': 0,\n",
       "   'xgb__learning_rate': 0.5,\n",
       "   'xgb__max_depth': 5,\n",
       "   'xgb__n_estimators': 100},\n",
       "  {'xgb__gamma': 0,\n",
       "   'xgb__learning_rate': 0.5,\n",
       "   'xgb__max_depth': 5,\n",
       "   'xgb__n_estimators': 150},\n",
       "  {'xgb__gamma': 5,\n",
       "   'xgb__learning_rate': 0.1,\n",
       "   'xgb__max_depth': 3,\n",
       "   'xgb__n_estimators': 50},\n",
       "  {'xgb__gamma': 5,\n",
       "   'xgb__learning_rate': 0.1,\n",
       "   'xgb__max_depth': 3,\n",
       "   'xgb__n_estimators': 100},\n",
       "  {'xgb__gamma': 5,\n",
       "   'xgb__learning_rate': 0.1,\n",
       "   'xgb__max_depth': 3,\n",
       "   'xgb__n_estimators': 150},\n",
       "  {'xgb__gamma': 5,\n",
       "   'xgb__learning_rate': 0.1,\n",
       "   'xgb__max_depth': 4,\n",
       "   'xgb__n_estimators': 50},\n",
       "  {'xgb__gamma': 5,\n",
       "   'xgb__learning_rate': 0.1,\n",
       "   'xgb__max_depth': 4,\n",
       "   'xgb__n_estimators': 100},\n",
       "  {'xgb__gamma': 5,\n",
       "   'xgb__learning_rate': 0.1,\n",
       "   'xgb__max_depth': 4,\n",
       "   'xgb__n_estimators': 150},\n",
       "  {'xgb__gamma': 5,\n",
       "   'xgb__learning_rate': 0.1,\n",
       "   'xgb__max_depth': 5,\n",
       "   'xgb__n_estimators': 50},\n",
       "  {'xgb__gamma': 5,\n",
       "   'xgb__learning_rate': 0.1,\n",
       "   'xgb__max_depth': 5,\n",
       "   'xgb__n_estimators': 100},\n",
       "  {'xgb__gamma': 5,\n",
       "   'xgb__learning_rate': 0.1,\n",
       "   'xgb__max_depth': 5,\n",
       "   'xgb__n_estimators': 150},\n",
       "  {'xgb__gamma': 5,\n",
       "   'xgb__learning_rate': 0.3,\n",
       "   'xgb__max_depth': 3,\n",
       "   'xgb__n_estimators': 50},\n",
       "  {'xgb__gamma': 5,\n",
       "   'xgb__learning_rate': 0.3,\n",
       "   'xgb__max_depth': 3,\n",
       "   'xgb__n_estimators': 100},\n",
       "  {'xgb__gamma': 5,\n",
       "   'xgb__learning_rate': 0.3,\n",
       "   'xgb__max_depth': 3,\n",
       "   'xgb__n_estimators': 150},\n",
       "  {'xgb__gamma': 5,\n",
       "   'xgb__learning_rate': 0.3,\n",
       "   'xgb__max_depth': 4,\n",
       "   'xgb__n_estimators': 50},\n",
       "  {'xgb__gamma': 5,\n",
       "   'xgb__learning_rate': 0.3,\n",
       "   'xgb__max_depth': 4,\n",
       "   'xgb__n_estimators': 100},\n",
       "  {'xgb__gamma': 5,\n",
       "   'xgb__learning_rate': 0.3,\n",
       "   'xgb__max_depth': 4,\n",
       "   'xgb__n_estimators': 150},\n",
       "  {'xgb__gamma': 5,\n",
       "   'xgb__learning_rate': 0.3,\n",
       "   'xgb__max_depth': 5,\n",
       "   'xgb__n_estimators': 50},\n",
       "  {'xgb__gamma': 5,\n",
       "   'xgb__learning_rate': 0.3,\n",
       "   'xgb__max_depth': 5,\n",
       "   'xgb__n_estimators': 100},\n",
       "  {'xgb__gamma': 5,\n",
       "   'xgb__learning_rate': 0.3,\n",
       "   'xgb__max_depth': 5,\n",
       "   'xgb__n_estimators': 150},\n",
       "  {'xgb__gamma': 5,\n",
       "   'xgb__learning_rate': 0.5,\n",
       "   'xgb__max_depth': 3,\n",
       "   'xgb__n_estimators': 50},\n",
       "  {'xgb__gamma': 5,\n",
       "   'xgb__learning_rate': 0.5,\n",
       "   'xgb__max_depth': 3,\n",
       "   'xgb__n_estimators': 100},\n",
       "  {'xgb__gamma': 5,\n",
       "   'xgb__learning_rate': 0.5,\n",
       "   'xgb__max_depth': 3,\n",
       "   'xgb__n_estimators': 150},\n",
       "  {'xgb__gamma': 5,\n",
       "   'xgb__learning_rate': 0.5,\n",
       "   'xgb__max_depth': 4,\n",
       "   'xgb__n_estimators': 50},\n",
       "  {'xgb__gamma': 5,\n",
       "   'xgb__learning_rate': 0.5,\n",
       "   'xgb__max_depth': 4,\n",
       "   'xgb__n_estimators': 100},\n",
       "  {'xgb__gamma': 5,\n",
       "   'xgb__learning_rate': 0.5,\n",
       "   'xgb__max_depth': 4,\n",
       "   'xgb__n_estimators': 150},\n",
       "  {'xgb__gamma': 5,\n",
       "   'xgb__learning_rate': 0.5,\n",
       "   'xgb__max_depth': 5,\n",
       "   'xgb__n_estimators': 50},\n",
       "  {'xgb__gamma': 5,\n",
       "   'xgb__learning_rate': 0.5,\n",
       "   'xgb__max_depth': 5,\n",
       "   'xgb__n_estimators': 100},\n",
       "  {'xgb__gamma': 5,\n",
       "   'xgb__learning_rate': 0.5,\n",
       "   'xgb__max_depth': 5,\n",
       "   'xgb__n_estimators': 150},\n",
       "  {'xgb__gamma': 10,\n",
       "   'xgb__learning_rate': 0.1,\n",
       "   'xgb__max_depth': 3,\n",
       "   'xgb__n_estimators': 50},\n",
       "  {'xgb__gamma': 10,\n",
       "   'xgb__learning_rate': 0.1,\n",
       "   'xgb__max_depth': 3,\n",
       "   'xgb__n_estimators': 100},\n",
       "  {'xgb__gamma': 10,\n",
       "   'xgb__learning_rate': 0.1,\n",
       "   'xgb__max_depth': 3,\n",
       "   'xgb__n_estimators': 150},\n",
       "  {'xgb__gamma': 10,\n",
       "   'xgb__learning_rate': 0.1,\n",
       "   'xgb__max_depth': 4,\n",
       "   'xgb__n_estimators': 50},\n",
       "  {'xgb__gamma': 10,\n",
       "   'xgb__learning_rate': 0.1,\n",
       "   'xgb__max_depth': 4,\n",
       "   'xgb__n_estimators': 100},\n",
       "  {'xgb__gamma': 10,\n",
       "   'xgb__learning_rate': 0.1,\n",
       "   'xgb__max_depth': 4,\n",
       "   'xgb__n_estimators': 150},\n",
       "  {'xgb__gamma': 10,\n",
       "   'xgb__learning_rate': 0.1,\n",
       "   'xgb__max_depth': 5,\n",
       "   'xgb__n_estimators': 50},\n",
       "  {'xgb__gamma': 10,\n",
       "   'xgb__learning_rate': 0.1,\n",
       "   'xgb__max_depth': 5,\n",
       "   'xgb__n_estimators': 100},\n",
       "  {'xgb__gamma': 10,\n",
       "   'xgb__learning_rate': 0.1,\n",
       "   'xgb__max_depth': 5,\n",
       "   'xgb__n_estimators': 150},\n",
       "  {'xgb__gamma': 10,\n",
       "   'xgb__learning_rate': 0.3,\n",
       "   'xgb__max_depth': 3,\n",
       "   'xgb__n_estimators': 50},\n",
       "  {'xgb__gamma': 10,\n",
       "   'xgb__learning_rate': 0.3,\n",
       "   'xgb__max_depth': 3,\n",
       "   'xgb__n_estimators': 100},\n",
       "  {'xgb__gamma': 10,\n",
       "   'xgb__learning_rate': 0.3,\n",
       "   'xgb__max_depth': 3,\n",
       "   'xgb__n_estimators': 150},\n",
       "  {'xgb__gamma': 10,\n",
       "   'xgb__learning_rate': 0.3,\n",
       "   'xgb__max_depth': 4,\n",
       "   'xgb__n_estimators': 50},\n",
       "  {'xgb__gamma': 10,\n",
       "   'xgb__learning_rate': 0.3,\n",
       "   'xgb__max_depth': 4,\n",
       "   'xgb__n_estimators': 100},\n",
       "  {'xgb__gamma': 10,\n",
       "   'xgb__learning_rate': 0.3,\n",
       "   'xgb__max_depth': 4,\n",
       "   'xgb__n_estimators': 150},\n",
       "  {'xgb__gamma': 10,\n",
       "   'xgb__learning_rate': 0.3,\n",
       "   'xgb__max_depth': 5,\n",
       "   'xgb__n_estimators': 50},\n",
       "  {'xgb__gamma': 10,\n",
       "   'xgb__learning_rate': 0.3,\n",
       "   'xgb__max_depth': 5,\n",
       "   'xgb__n_estimators': 100},\n",
       "  {'xgb__gamma': 10,\n",
       "   'xgb__learning_rate': 0.3,\n",
       "   'xgb__max_depth': 5,\n",
       "   'xgb__n_estimators': 150},\n",
       "  {'xgb__gamma': 10,\n",
       "   'xgb__learning_rate': 0.5,\n",
       "   'xgb__max_depth': 3,\n",
       "   'xgb__n_estimators': 50},\n",
       "  {'xgb__gamma': 10,\n",
       "   'xgb__learning_rate': 0.5,\n",
       "   'xgb__max_depth': 3,\n",
       "   'xgb__n_estimators': 100},\n",
       "  {'xgb__gamma': 10,\n",
       "   'xgb__learning_rate': 0.5,\n",
       "   'xgb__max_depth': 3,\n",
       "   'xgb__n_estimators': 150},\n",
       "  {'xgb__gamma': 10,\n",
       "   'xgb__learning_rate': 0.5,\n",
       "   'xgb__max_depth': 4,\n",
       "   'xgb__n_estimators': 50},\n",
       "  {'xgb__gamma': 10,\n",
       "   'xgb__learning_rate': 0.5,\n",
       "   'xgb__max_depth': 4,\n",
       "   'xgb__n_estimators': 100},\n",
       "  {'xgb__gamma': 10,\n",
       "   'xgb__learning_rate': 0.5,\n",
       "   'xgb__max_depth': 4,\n",
       "   'xgb__n_estimators': 150},\n",
       "  {'xgb__gamma': 10,\n",
       "   'xgb__learning_rate': 0.5,\n",
       "   'xgb__max_depth': 5,\n",
       "   'xgb__n_estimators': 50},\n",
       "  {'xgb__gamma': 10,\n",
       "   'xgb__learning_rate': 0.5,\n",
       "   'xgb__max_depth': 5,\n",
       "   'xgb__n_estimators': 100},\n",
       "  {'xgb__gamma': 10,\n",
       "   'xgb__learning_rate': 0.5,\n",
       "   'xgb__max_depth': 5,\n",
       "   'xgb__n_estimators': 150}],\n",
       " 'split0_test_score': array([0.66237113, 0.67525773, 0.66752577, 0.64175258, 0.65721649,\n",
       "        0.69974227, 0.66365979, 0.67268041, 0.71005155, 0.67525773,\n",
       "        0.67912371, 0.69845361, 0.68814433, 0.69845361, 0.70489691,\n",
       "        0.69716495, 0.70747423, 0.71907216, 0.69072165, 0.68685567,\n",
       "        0.71778351, 0.68685567, 0.68556701, 0.71520619, 0.68814433,\n",
       "        0.70103093, 0.71134021, 0.64304124, 0.66108247, 0.68427835,\n",
       "        0.65721649, 0.68427835, 0.68298969, 0.66623711, 0.69072165,\n",
       "        0.71391753, 0.67396907, 0.68298969, 0.67396907, 0.67525773,\n",
       "        0.68685567, 0.67268041, 0.68170103, 0.68685567, 0.68556701,\n",
       "        0.66623711, 0.69072165, 0.68170103, 0.66623711, 0.68041237,\n",
       "        0.67010309, 0.67912371, 0.68427835, 0.66752577, 0.66237113,\n",
       "        0.66365979, 0.66881443, 0.65979381, 0.68170103, 0.66108247,\n",
       "        0.66881443, 0.67396907, 0.67268041, 0.65850515, 0.67396907,\n",
       "        0.66365979, 0.66108247, 0.66494845, 0.65463918, 0.66752577,\n",
       "        0.67525773, 0.68298969, 0.65335052, 0.66108247, 0.64948454,\n",
       "        0.67268041, 0.64304124, 0.63917526, 0.66237113, 0.64561856,\n",
       "        0.6443299 ]),\n",
       " 'split1_test_score': array([0.63273196, 0.67912371, 0.68298969, 0.67525773, 0.69716495,\n",
       "        0.69716495, 0.69329897, 0.70747423, 0.71391753, 0.68943299,\n",
       "        0.71134021, 0.71134021, 0.69587629, 0.71778351, 0.71391753,\n",
       "        0.70231959, 0.7242268 , 0.7242268 , 0.70103093, 0.70618557,\n",
       "        0.69458763, 0.70747423, 0.70360825, 0.71134021, 0.70747423,\n",
       "        0.7306701 , 0.71778351, 0.63402062, 0.68170103, 0.68685567,\n",
       "        0.67010309, 0.69072165, 0.70876289, 0.69458763, 0.71391753,\n",
       "        0.69974227, 0.70618557, 0.69974227, 0.67783505, 0.71005155,\n",
       "        0.67525773, 0.69201031, 0.68298969, 0.71134021, 0.71134021,\n",
       "        0.68298969, 0.69974227, 0.68814433, 0.68041237, 0.69458763,\n",
       "        0.66237113, 0.69716495, 0.69201031, 0.68685567, 0.64304124,\n",
       "        0.66108247, 0.65850515, 0.66752577, 0.67268041, 0.67139175,\n",
       "        0.67912371, 0.69845361, 0.69974227, 0.65463918, 0.67783505,\n",
       "        0.67396907, 0.67783505, 0.67912371, 0.67139175, 0.68298969,\n",
       "        0.69201031, 0.67654639, 0.68298969, 0.66237113, 0.66237113,\n",
       "        0.65463918, 0.66237113, 0.66623711, 0.65335052, 0.67396907,\n",
       "        0.65463918]),\n",
       " 'split2_test_score': array([0.64903226, 0.69935484, 0.69548387, 0.67612903, 0.70967742,\n",
       "        0.71096774, 0.71225806, 0.72129032, 0.72774194, 0.69290323,\n",
       "        0.72387097, 0.71870968, 0.7083871 , 0.72516129, 0.73032258,\n",
       "        0.71483871, 0.72903226, 0.73806452, 0.70709677, 0.72387097,\n",
       "        0.73548387, 0.71483871, 0.72516129, 0.7316129 , 0.71354839,\n",
       "        0.72903226, 0.7483871 , 0.66580645, 0.67612903, 0.70451613,\n",
       "        0.66709677, 0.69290323, 0.71225806, 0.68258065, 0.71096774,\n",
       "        0.72258065, 0.69548387, 0.70709677, 0.69290323, 0.72      ,\n",
       "        0.71354839, 0.70580645, 0.71612903, 0.71354839, 0.71870968,\n",
       "        0.69806452, 0.70580645, 0.70193548, 0.7083871 , 0.71870968,\n",
       "        0.69935484, 0.70580645, 0.68387097, 0.70709677, 0.67354839,\n",
       "        0.68387097, 0.68387097, 0.69935484, 0.68774194, 0.68258065,\n",
       "        0.67483871, 0.70580645, 0.69290323, 0.67741935, 0.68774194,\n",
       "        0.68774194, 0.68774194, 0.67483871, 0.68645161, 0.68258065,\n",
       "        0.70193548, 0.6683871 , 0.66193548, 0.65935484, 0.68903226,\n",
       "        0.67483871, 0.65548387, 0.67096774, 0.66967742, 0.69548387,\n",
       "        0.69548387]),\n",
       " 'split3_test_score': array([0.66322581, 0.68258065, 0.68645161, 0.67741935, 0.71612903,\n",
       "        0.70451613, 0.69806452, 0.70580645, 0.70967742, 0.67870968,\n",
       "        0.70322581, 0.71096774, 0.68387097, 0.70193548, 0.71483871,\n",
       "        0.71354839, 0.70193548, 0.71741935, 0.69806452, 0.70322581,\n",
       "        0.70322581, 0.70580645, 0.7083871 , 0.70322581, 0.7083871 ,\n",
       "        0.71741935, 0.70580645, 0.66709677, 0.67870968, 0.68903226,\n",
       "        0.6916129 , 0.6916129 , 0.68516129, 0.67612903, 0.6916129 ,\n",
       "        0.69935484, 0.67354839, 0.66193548, 0.68645161, 0.68645161,\n",
       "        0.68      , 0.68258065, 0.69548387, 0.67225806, 0.67096774,\n",
       "        0.66967742, 0.69677419, 0.66193548, 0.66967742, 0.6516129 ,\n",
       "        0.68387097, 0.68516129, 0.69032258, 0.68903226, 0.63870968,\n",
       "        0.67225806, 0.67741935, 0.66193548, 0.66322581, 0.67483871,\n",
       "        0.68774194, 0.67096774, 0.6683871 , 0.67225806, 0.67741935,\n",
       "        0.67483871, 0.67741935, 0.67612903, 0.67096774, 0.65677419,\n",
       "        0.67612903, 0.67612903, 0.65548387, 0.67096774, 0.66451613,\n",
       "        0.66451613, 0.66709677, 0.65935484, 0.68516129, 0.65935484,\n",
       "        0.67612903]),\n",
       " 'split4_test_score': array([0.63612903, 0.65419355, 0.68516129, 0.66193548, 0.69032258,\n",
       "        0.68645161, 0.67096774, 0.69677419, 0.70451613, 0.67741935,\n",
       "        0.7083871 , 0.6916129 , 0.68387097, 0.70451613, 0.70709677,\n",
       "        0.70967742, 0.72129032, 0.70709677, 0.68129032, 0.69935484,\n",
       "        0.70322581, 0.71096774, 0.70709677, 0.71225806, 0.70193548,\n",
       "        0.71612903, 0.71096774, 0.64258065, 0.67354839, 0.66451613,\n",
       "        0.65419355, 0.68903226, 0.67612903, 0.67354839, 0.68129032,\n",
       "        0.69032258, 0.6683871 , 0.67096774, 0.70064516, 0.68774194,\n",
       "        0.69548387, 0.68387097, 0.69419355, 0.68516129, 0.6916129 ,\n",
       "        0.69032258, 0.66064516, 0.69032258, 0.67741935, 0.67741935,\n",
       "        0.68      , 0.66709677, 0.67354839, 0.66451613, 0.64      ,\n",
       "        0.65806452, 0.66451613, 0.65935484, 0.66322581, 0.65419355,\n",
       "        0.65935484, 0.65677419, 0.6683871 , 0.6516129 , 0.67096774,\n",
       "        0.64258065, 0.65548387, 0.66967742, 0.67870968, 0.66580645,\n",
       "        0.68258065, 0.65935484, 0.66322581, 0.66193548, 0.66193548,\n",
       "        0.65806452, 0.64      , 0.6516129 , 0.64774194, 0.66580645,\n",
       "        0.66709677]),\n",
       " 'mean_test_score': array([0.64869804, 0.6781021 , 0.68352245, 0.66649884, 0.6941021 ,\n",
       "        0.69976854, 0.68764982, 0.70080512, 0.71318091, 0.6827446 ,\n",
       "        0.70518956, 0.70621683, 0.69202993, 0.70957   , 0.7142145 ,\n",
       "        0.70750981, 0.71679182, 0.72117592, 0.69564084, 0.70389857,\n",
       "        0.71086132, 0.70518856, 0.70596408, 0.71472863, 0.7038979 ,\n",
       "        0.71885634, 0.718857  , 0.65050915, 0.67423412, 0.68583971,\n",
       "        0.66804456, 0.68970968, 0.69306019, 0.67861656, 0.69770203,\n",
       "        0.70518357, 0.6835148 , 0.68454639, 0.68636082, 0.69590057,\n",
       "        0.69022913, 0.68738976, 0.69409943, 0.69383272, 0.69563951,\n",
       "        0.68145826, 0.69073794, 0.68480778, 0.68042667, 0.68454839,\n",
       "        0.67914001, 0.68687064, 0.68480612, 0.68300532, 0.65153409,\n",
       "        0.66778716, 0.67062521, 0.66959295, 0.673715  , 0.66881743,\n",
       "        0.67397473, 0.68119421, 0.68042002, 0.66288693, 0.67758663,\n",
       "        0.66855803, 0.67191254, 0.67294347, 0.67243199, 0.67113535,\n",
       "        0.68558264, 0.67268141, 0.66339707, 0.66314233, 0.66546791,\n",
       "        0.66494779, 0.6535986 , 0.65746957, 0.66366046, 0.66804656,\n",
       "        0.66753575]),\n",
       " 'std_test_score': array([0.01273591, 0.01450854, 0.00906111, 0.01357879, 0.02055232,\n",
       "        0.00814962, 0.01788719, 0.01610206, 0.00787035, 0.00705159,\n",
       "        0.01469921, 0.00978196, 0.00927994, 0.01017793, 0.00891547,\n",
       "        0.00676506, 0.01032349, 0.01011229, 0.00890283, 0.01196399,\n",
       "        0.01439182, 0.00967704, 0.01262757, 0.0093296 , 0.00869599,\n",
       "        0.01068048, 0.01524623, 0.01341387, 0.00711073, 0.0127841 ,\n",
       "        0.01318863, 0.00299344, 0.01459866, 0.00954897, 0.01260213,\n",
       "        0.01151843, 0.01467324, 0.01695577, 0.00972726, 0.01651064,\n",
       "        0.01350228, 0.01106705, 0.01236427, 0.01602846, 0.01734998,\n",
       "        0.01205952, 0.01581234, 0.01317344, 0.01488435, 0.02200207,\n",
       "        0.01260652, 0.01355345, 0.00648415, 0.01557571, 0.01394059,\n",
       "        0.00932948, 0.00904551, 0.0151626 , 0.00981477, 0.01005979,\n",
       "        0.00956205, 0.01820313, 0.01325642, 0.01013251, 0.00565891,\n",
       "        0.01507027, 0.01185886, 0.00503036, 0.01054296, 0.01019009,\n",
       "        0.01013624, 0.00811324, 0.01048416, 0.00404664, 0.01291294,\n",
       "        0.00789249, 0.01057442, 0.01123928, 0.0131137 , 0.01656177,\n",
       "        0.01766334]),\n",
       " 'rank_test_score': array([81, 52, 42, 70, 24, 19, 32, 18,  7, 45, 13, 11, 28,  9,  6, 10,  4,\n",
       "         1, 22, 16,  8, 14, 12,  5, 17,  3,  2, 80, 54, 36, 67, 31, 27, 51,\n",
       "        20, 15, 43, 41, 35, 21, 30, 33, 25, 26, 23, 46, 29, 38, 48, 40, 50,\n",
       "        34, 39, 44, 79, 68, 62, 63, 56, 64, 55, 47, 49, 76, 53, 65, 60, 57,\n",
       "        59, 61, 37, 58, 74, 75, 71, 72, 78, 77, 73, 66, 69])}"
      ]
     },
     "execution_count": 254,
     "metadata": {},
     "output_type": "execute_result"
    }
   ],
   "source": [
    "xgb_grid.cv_results_"
   ]
  },
  {
   "cell_type": "code",
   "execution_count": 256,
   "metadata": {},
   "outputs": [
    {
     "data": {
      "text/plain": [
       "0.721175922846691"
      ]
     },
     "execution_count": 256,
     "metadata": {},
     "output_type": "execute_result"
    }
   ],
   "source": [
    "xgb_grid.best_score_"
   ]
  },
  {
   "cell_type": "code",
   "execution_count": 264,
   "metadata": {},
   "outputs": [
    {
     "name": "stdout",
     "output_type": "stream",
     "text": [
      "Glove, SMOTE best XGB train score 0.9992262058292494\n",
      "Glove, SMOTE best XGB test score 0.7120743034055728\n"
     ]
    },
    {
     "data": {
      "image/png": "[encoded data removed]",
      "text/plain": [
       "<Figure size 432x288 with 2 Axes>"
      ]
     },
     "metadata": {
      "needs_background": "light"
     },
     "output_type": "display_data"
    }
   ],
   "source": [
    "# best XGBoost classifier results\n",
    "xbg_best=xgb_grid.best_estimator_\n",
    "xbg_best.fit(X_train,y_train)\n",
    "print('Glove, SMOTE best XGB train score', xbg_best.score(X_train,y_train))\n",
    "print('Glove, SMOTE best XGB test score', xbg_best.score(X_test,y_test))\n",
    "cm=confusion_matrix(y_test,xbg_best.predict(X_test))\n",
    "labels=['bad','neutral','good']\n",
    "ConfusionMatrixDisplay(confusion_matrix=cm,display_labels=labels).plot()\n",
    "plt.show()"
   ]
  },
  {
   "cell_type": "markdown",
   "metadata": {},
   "source": [
    "Upon trying both TFIDF vectoring and glove embedding in different models, the test results behaved very similarly - with a high count of good documentation classified as neutral - why is that? \n",
    "We are going to inspect and analyze the examples using the test results of complementary NB model with tfidf and the best model with glove embedding - SVC, to derive our next steps"
   ]
  },
  {
   "cell_type": "code",
   "execution_count": 32,
   "metadata": {},
   "outputs": [
    {
     "data": {
      "text/plain": [
       "0      2\n",
       "1      1\n",
       "2      2\n",
       "3      2\n",
       "4      2\n",
       "      ..\n",
       "964    2\n",
       "965    0\n",
       "966    2\n",
       "967    0\n",
       "968    1\n",
       "Length: 969, dtype: int64"
      ]
     },
     "execution_count": 32,
     "metadata": {},
     "output_type": "execute_result"
    }
   ],
   "source": [
    "y_pred_svc=svc_best.predict(X_test)\n",
    "y_pred_svc=pd.Series(y_pred_svc)\n",
    "y_pred_svc"
   ]
  },
  {
   "cell_type": "code",
   "execution_count": 33,
   "metadata": {},
   "outputs": [
    {
     "data": {
      "text/plain": [
       "0      1\n",
       "1      1\n",
       "2      2\n",
       "3      2\n",
       "4      2\n",
       "      ..\n",
       "964    2\n",
       "965    0\n",
       "966    0\n",
       "967    0\n",
       "968    1\n",
       "Length: 969, dtype: int64"
      ]
     },
     "execution_count": 33,
     "metadata": {},
     "output_type": "execute_result"
    }
   ],
   "source": [
    "y_pred_mnb=fsm_pipe.predict(X_test)\n",
    "y_pred_mnb=pd.Series(y_pred_mnb)\n",
    "y_pred_mnb"
   ]
  },
  {
   "cell_type": "code",
   "execution_count": 36,
   "metadata": {},
   "outputs": [],
   "source": [
    "test_results_comparison=pd.DataFrame({'doc':X_test,'y_true':y_test,'y_pred_svc':y_pred_svc,'y_pred_mnb':y_pred_mnb})\n",
    "test_results_comparison.to_csv('data/test_results_comparison.csv')"
   ]
  },
  {
   "cell_type": "code",
   "execution_count": 37,
   "metadata": {},
   "outputs": [
    {
     "data": {
      "text/html": [
       "<div>\n",
       "<style scoped>\n",
       "    .dataframe tbody tr th:only-of-type {\n",
       "        vertical-align: middle;\n",
       "    }\n",
       "\n",
       "    .dataframe tbody tr th {\n",
       "        vertical-align: top;\n",
       "    }\n",
       "\n",
       "    .dataframe thead th {\n",
       "        text-align: right;\n",
       "    }\n",
       "</style>\n",
       "<table border=\"1\" class=\"dataframe\">\n",
       "  <thead>\n",
       "    <tr style=\"text-align: right;\">\n",
       "      <th></th>\n",
       "      <th>doc</th>\n",
       "      <th>y_true</th>\n",
       "      <th>y_pred</th>\n",
       "    </tr>\n",
       "  </thead>\n",
       "  <tbody>\n",
       "    <tr>\n",
       "      <th>0</th>\n",
       "      <td>TeliaSonera TLSN said the offer is in line wit...</td>\n",
       "      <td>2</td>\n",
       "      <td>2</td>\n",
       "    </tr>\n",
       "    <tr>\n",
       "      <th>1</th>\n",
       "      <td>STORA ENSO , NORSKE SKOG , M-REAL , UPM-KYMMEN...</td>\n",
       "      <td>2</td>\n",
       "      <td>1</td>\n",
       "    </tr>\n",
       "    <tr>\n",
       "      <th>2</th>\n",
       "      <td>Clothing retail chain Sepp+ñl+ñ 's sales incre...</td>\n",
       "      <td>2</td>\n",
       "      <td>2</td>\n",
       "    </tr>\n",
       "    <tr>\n",
       "      <th>3</th>\n",
       "      <td>Lifetree was founded in 2000 , and its revenue...</td>\n",
       "      <td>2</td>\n",
       "      <td>2</td>\n",
       "    </tr>\n",
       "    <tr>\n",
       "      <th>4</th>\n",
       "      <td>Nordea Group 's operating profit increased in ...</td>\n",
       "      <td>2</td>\n",
       "      <td>2</td>\n",
       "    </tr>\n",
       "    <tr>\n",
       "      <th>...</th>\n",
       "      <td>...</td>\n",
       "      <td>...</td>\n",
       "      <td>...</td>\n",
       "    </tr>\n",
       "    <tr>\n",
       "      <th>964</th>\n",
       "      <td>Seven-month sales of Ragutis , which is contro...</td>\n",
       "      <td>0</td>\n",
       "      <td>2</td>\n",
       "    </tr>\n",
       "    <tr>\n",
       "      <th>965</th>\n",
       "      <td>The OMX Helsinki index was 0.33 pct lower at 9...</td>\n",
       "      <td>0</td>\n",
       "      <td>0</td>\n",
       "    </tr>\n",
       "    <tr>\n",
       "      <th>966</th>\n",
       "      <td>In the Baltic states the company reports net s...</td>\n",
       "      <td>0</td>\n",
       "      <td>2</td>\n",
       "    </tr>\n",
       "    <tr>\n",
       "      <th>967</th>\n",
       "      <td>The company said that its comparable operating...</td>\n",
       "      <td>0</td>\n",
       "      <td>0</td>\n",
       "    </tr>\n",
       "    <tr>\n",
       "      <th>968</th>\n",
       "      <td>LONDON MarketWatch -- Share prices ended lower...</td>\n",
       "      <td>0</td>\n",
       "      <td>1</td>\n",
       "    </tr>\n",
       "  </tbody>\n",
       "</table>\n",
       "<p>969 rows × 3 columns</p>\n",
       "</div>"
      ],
      "text/plain": [
       "                                                   doc  y_true  y_pred\n",
       "0    TeliaSonera TLSN said the offer is in line wit...       2       2\n",
       "1    STORA ENSO , NORSKE SKOG , M-REAL , UPM-KYMMEN...       2       1\n",
       "2    Clothing retail chain Sepp+ñl+ñ 's sales incre...       2       2\n",
       "3    Lifetree was founded in 2000 , and its revenue...       2       2\n",
       "4    Nordea Group 's operating profit increased in ...       2       2\n",
       "..                                                 ...     ...     ...\n",
       "964  Seven-month sales of Ragutis , which is contro...       0       2\n",
       "965  The OMX Helsinki index was 0.33 pct lower at 9...       0       0\n",
       "966  In the Baltic states the company reports net s...       0       2\n",
       "967  The company said that its comparable operating...       0       0\n",
       "968  LONDON MarketWatch -- Share prices ended lower...       0       1\n",
       "\n",
       "[969 rows x 3 columns]"
      ]
     },
     "execution_count": 37,
     "metadata": {},
     "output_type": "execute_result"
    }
   ],
   "source": [
    "svc_best_test_results=pd.DataFrame({'doc':X_test,'y_true':y_test,'y_pred':y_pred_svc})\n",
    "svc_best_test_results"
   ]
  },
  {
   "cell_type": "code",
   "execution_count": 38,
   "metadata": {},
   "outputs": [
    {
     "data": {
      "text/html": [
       "<div>\n",
       "<style scoped>\n",
       "    .dataframe tbody tr th:only-of-type {\n",
       "        vertical-align: middle;\n",
       "    }\n",
       "\n",
       "    .dataframe tbody tr th {\n",
       "        vertical-align: top;\n",
       "    }\n",
       "\n",
       "    .dataframe thead th {\n",
       "        text-align: right;\n",
       "    }\n",
       "</style>\n",
       "<table border=\"1\" class=\"dataframe\">\n",
       "  <thead>\n",
       "    <tr style=\"text-align: right;\">\n",
       "      <th></th>\n",
       "      <th>doc</th>\n",
       "      <th>y_true</th>\n",
       "      <th>y_pred</th>\n",
       "    </tr>\n",
       "  </thead>\n",
       "  <tbody>\n",
       "    <tr>\n",
       "      <th>0</th>\n",
       "      <td>TeliaSonera TLSN said the offer is in line wit...</td>\n",
       "      <td>2</td>\n",
       "      <td>1</td>\n",
       "    </tr>\n",
       "    <tr>\n",
       "      <th>1</th>\n",
       "      <td>STORA ENSO , NORSKE SKOG , M-REAL , UPM-KYMMEN...</td>\n",
       "      <td>2</td>\n",
       "      <td>1</td>\n",
       "    </tr>\n",
       "    <tr>\n",
       "      <th>2</th>\n",
       "      <td>Clothing retail chain Sepp+ñl+ñ 's sales incre...</td>\n",
       "      <td>2</td>\n",
       "      <td>2</td>\n",
       "    </tr>\n",
       "    <tr>\n",
       "      <th>3</th>\n",
       "      <td>Lifetree was founded in 2000 , and its revenue...</td>\n",
       "      <td>2</td>\n",
       "      <td>2</td>\n",
       "    </tr>\n",
       "    <tr>\n",
       "      <th>4</th>\n",
       "      <td>Nordea Group 's operating profit increased in ...</td>\n",
       "      <td>2</td>\n",
       "      <td>2</td>\n",
       "    </tr>\n",
       "    <tr>\n",
       "      <th>...</th>\n",
       "      <td>...</td>\n",
       "      <td>...</td>\n",
       "      <td>...</td>\n",
       "    </tr>\n",
       "    <tr>\n",
       "      <th>964</th>\n",
       "      <td>Seven-month sales of Ragutis , which is contro...</td>\n",
       "      <td>0</td>\n",
       "      <td>2</td>\n",
       "    </tr>\n",
       "    <tr>\n",
       "      <th>965</th>\n",
       "      <td>The OMX Helsinki index was 0.33 pct lower at 9...</td>\n",
       "      <td>0</td>\n",
       "      <td>0</td>\n",
       "    </tr>\n",
       "    <tr>\n",
       "      <th>966</th>\n",
       "      <td>In the Baltic states the company reports net s...</td>\n",
       "      <td>0</td>\n",
       "      <td>0</td>\n",
       "    </tr>\n",
       "    <tr>\n",
       "      <th>967</th>\n",
       "      <td>The company said that its comparable operating...</td>\n",
       "      <td>0</td>\n",
       "      <td>0</td>\n",
       "    </tr>\n",
       "    <tr>\n",
       "      <th>968</th>\n",
       "      <td>LONDON MarketWatch -- Share prices ended lower...</td>\n",
       "      <td>0</td>\n",
       "      <td>1</td>\n",
       "    </tr>\n",
       "  </tbody>\n",
       "</table>\n",
       "<p>969 rows × 3 columns</p>\n",
       "</div>"
      ],
      "text/plain": [
       "                                                   doc  y_true  y_pred\n",
       "0    TeliaSonera TLSN said the offer is in line wit...       2       1\n",
       "1    STORA ENSO , NORSKE SKOG , M-REAL , UPM-KYMMEN...       2       1\n",
       "2    Clothing retail chain Sepp+ñl+ñ 's sales incre...       2       2\n",
       "3    Lifetree was founded in 2000 , and its revenue...       2       2\n",
       "4    Nordea Group 's operating profit increased in ...       2       2\n",
       "..                                                 ...     ...     ...\n",
       "964  Seven-month sales of Ragutis , which is contro...       0       2\n",
       "965  The OMX Helsinki index was 0.33 pct lower at 9...       0       0\n",
       "966  In the Baltic states the company reports net s...       0       0\n",
       "967  The company said that its comparable operating...       0       0\n",
       "968  LONDON MarketWatch -- Share prices ended lower...       0       1\n",
       "\n",
       "[969 rows x 3 columns]"
      ]
     },
     "execution_count": 38,
     "metadata": {},
     "output_type": "execute_result"
    }
   ],
   "source": [
    "mnb_test_results=pd.DataFrame({'doc':X_test,'y_true':y_test,'y_pred':y_pred_mnb})\n",
    "mnb_test_results"
   ]
  },
  {
   "cell_type": "code",
   "execution_count": 39,
   "metadata": {},
   "outputs": [
    {
     "name": "stdout",
     "output_type": "stream",
     "text": [
      "Total SVC good predicted as false neutrals 106\n",
      "\n",
      "STORA ENSO , NORSKE SKOG , M-REAL , UPM-KYMMENE Credit Suisse First Boston ( CFSB ) raised the fair value for shares in four of the largest Nordic forestry groups .\n",
      "Nyrstar has also agreed to supply to Talvivaara up to 150,000 tonnes of sulphuric acid per annum for use in Talvivaara 's leaching process during the period of supply of the zinc in concentrate .\n",
      "KESKO CORPORATION STOCK EXCHANGE RELEASE 28.02.2008 AT 09.30 1 ( 1 ) Kesko Corporation and Aspo plc today signed an agreement by which Aspo acquires the share capital of Kauko-Telko Ltd , a subsidiary wholly owned by Kesko .\n",
      "Under this agreement Biohit becomes a focus supplier of pipettors and disposable pipettor tips to VWR customers throughout Europe .\n",
      "Circulation revenue has increased by 5 % in Finland and 4 % in Sweden in 2008 .\n",
      "The circuit 's overall production rate on a weekly basis is now in excess of an average of 40,000 tonnes per day , with volumes in excess of 50,000 tonnes per day being reached on individual days .\n",
      "The transaction doubles Tecnomens workforse , and adds a fourth to their net sales .\n",
      "Besides we have increased the share of meat in various sausages and are offering a number of new tastes in the grill products and shish kebabs segment , '' Paavel said .\n",
      "Orion Pharma 's operating profit increased by 42.5 % from 2004 .\n",
      "The Finnish government announced Wednesday that it sold a 32 percent stake in chemicals and fertilizer group Kemira Oyj for (  x20ac ) 655.6 million ( $ 890US million ) , sending the company 's share price up 6 percent .\n",
      "TietoEnator itself uses Nokia 's Intellisync Mobile Suite 's wireless email , calendar , and device management capabilities , and the company will now extend these services to its customers .\n",
      "With the extension of the new contract for a further eight engines , the plant will now produce over 100 MW , it said .\n",
      "`` The second quarter of 2010 was the firstquarter with growth in net sales since the third quarter of2008 , '' said Magnus Rosen , Ramirent CEO .\n",
      "Elisa said mobile subscriptions grew 7 percent during 2007 , mainly because of customers adopting so-called third generation mobile technology .\n",
      "The company is now intensifying its smelter operations and increasing its annual production capacity to 230,000 tonnes of copper .\n",
      "The company said that its investments in the new market areas resulted in sales increase in Sweden , Poland , Russia and Lithuania .\n",
      "The disposal of Autotank will also strengthen Aspo 's capital structure , '' commented Gustav Nyberg , CEO of Aspo .\n",
      "Xerox and Stora Enso have teamed up to tailor the iGen3 to the short-run , on-demand packaging market .\n",
      "Separately , YIT Corporation and Austrian firm E AG last week signed an agreement on the sale of E 's building system service business in Germany , Austria , Poland , the Czech Republic , Hungary and Romania for EUR 55 mln .\n",
      "The company intends to raise production capacity in 2006 .\n",
      "Ramirent s Danish subsidiary Ramirent A-S has today signed an agreement to acquire the business assets of the machinery rental company Jydsk Materiel Udlejning located in West Jutland .\n",
      "- BEIJING XFN-ASIA - Hong Kong-listed Standard Chartered Bank said it has signed a China mobile phone dealer financing agreement with Nokia , making it the first foreign bank to offer financing to the country 's small and medium enterprise -LR\n",
      "`` Residentialconstruction in particular has picked up in several markets .\n",
      "After the transaction , Alma Media raised its stake in Talentum to 30.65 % of the shares and some 31.12 % of voting rights .\n",
      "The expansion includes the doubling of the floor space and the addition of more lifting capacity and production equipment .\n",
      "The total area of the Gorelovo plant is about 22,000 sq m. Atria invested about EURO 70mn in the plant , which should double Atria Russia 's production capacity in the St Petersburg area .\n",
      "Ruukki Romania , the local arm of Finnish metal producer Ruukki , increased its capital by 900,000 euro ( $ 1.14 mln ) through cash contribution , it was reported on September 19 , 2006 .\n",
      "18 January 2010 - Finnish IT consultancy Trainers ' House Oyj HEL : TRH1V said last Friday it resolved to issue a EUR5m hybrid bond to domestic investors in a bid to strengthen its capital structure .\n",
      "Cencorp estimates that its net sales in the last quarter will be as earlier stated , EUR4 .3 m to EUR5 .0 m , and operating profit (EBIT)is estimated to be positive .\n",
      "At the same time , sales development in Russia was boosted by the opening of Stockmann Nevsky Centre in St Petersburg .\n",
      "Benefon , a wireless and GPS technology company , will supply Karputer with its TWIG navigation platform , a GPS satellite navigation and voice guidance service .\n",
      "Combining this deep domain expertise with our Application Service Management ASM and outsourcing service offerings has now proved to be a winning combination .\n",
      "Exports accounted for 65.4 % of net sales , representing an all time record for the company .\n",
      "Finnish construction company YIT Oyj said on November 13 , 2007 it won a 70 mln euro $ 102.8 mln contract to construct the new office building for local property company Tapiola Real Estate Oy .\n",
      "When the situation normalises , the company will be able to increase the amount of residential units for sale in St Petersburg and Moscow , in particular .\n",
      "`` Stonesoft sees great promise in the future of IPv6 .\n",
      "`` We continued actively to focus R&D and to position our offering away from point solutions towards dynamic end-to-end solutions , '' Ervio stated .\n",
      "Comptel , a vendor of dynamic Operations Support System ( OSS ) software , has been selected by Orascom Telecom ( OTH ) as partner for provisioning and activation solutions for mobile services .\n",
      "DMASIA-16 August 2006-Benefon extends manufacturing capability with ASMobile -® 2006 Digitalmediaasia.com & DMA Ltd. .\n",
      "Fiskars has a strong portfolio of international brands , which include Fiskars , Iittala , Gerber , Silva and Buster .\n",
      "Helsingin Uutiset , Vantaan Sanomat and Lansivayla reach some 385,000 readers , or more than 40 % of the consumers in the greater Helsinki region .\n",
      "Panostaja Oyj s ( Panostaja ) Board of Directors decided on 16 December 2010 on a new long-term incentive and commitment plan for members of the management team .\n",
      "Raute Corporation has received orders worth over EUR 12 million from OOO Ilim Bratsk DOK in Russia .\n",
      "Recovery has been evident in the liquid handling business , particularly in areas outside Europe and primarily in North America and Asia .\n",
      "Speaking to just-drinks today , a spokesperson for Olvi said : `` We have performed very well in all four countries we operate in - namely , Finland , Estonia , Latvia and Lithuania . ''\n",
      "Sports equipment sales also progressed well owing to the prolonged winter season .\n",
      "The companies have agreed on long-term cooperation to mechanise harvesting in Stora Enso 's eucalyptus plantations in Southern China .\n",
      "The mill has long traditions and holds an established position in the markets .\n",
      "This is Done Logistics ' largest order in Norway , the diversified group said .\n",
      "This resulted in improved sales figures in Sweden .\n",
      "CEO Erkki J+ñrvinen is happy with the company 's performance in 2010 .\n",
      "Finnish construction group Lemminkainen Oyj HEL : LEM1S said today it has won a contract to provide technical services for the Nevsky Centre shopping mall to be opened in November in St Petersburg , Russia .\n",
      "The Federal Secretary for Transport and Communication of Mexico has awarded Poyry and its Mexican partner Sintra a consulting contract in connection with the Buenavista-Cuautitlan suburban railway .\n",
      "The parties have agreed to negotiate definitive distribution and license agreements by the end of June 2010 .\n",
      "This acquisition supports our strategy of being close to our customers all around the world offering both equipment and related services .\n",
      "These moderate but significant changes resulted in a significant 24-32 % reduction in the estimated CVD risk .\n",
      "Last year , Lemminkainen completed the Kouvola K-supermarket contract .\n",
      "Technopolis and the St. Petersburg government signed a cooperation memorandum in October 2005 to set up a techno-park in the Neudorf production zone in the village of Strelny , in the St. Petersburg suburbs .\n",
      "TeliaSonera is the leading telecommunications company in the Nordic and Baltic regions .\n",
      "The services also give the supplier opportunity to key-in invoices , receive orders electronically , to send order confirmations and to upload and create electronic catalogues .\n",
      "` For Nordea , moving into the new headquarters signifies the beginning of a new era .\n",
      "`` Our decision and resolve on MeeGo is only stronger , '' she continued .\n",
      "He also mentions that this improvement to the service follows the recent expansion of the Finnlines service from Bilbao via Antwerp and Helsinki and from Hull via Helsinki to St. Petersburg .\n",
      "More than 200 volunteers from Fiskars , the garden tool company , Home Depot ( NYSE : HD ) , the city of Baltimore and the neighborhood are working right now to create a garden sanctuary - in a single day .\n",
      "Our strong company brands - ESL Shipping , Leipurin , Telko and Kaukomarkkinat - aim to be the market leaders in their sectors .\n",
      "Precedex is approved for IV sedation of initially intubated and mechanically ventilated patients in intensive care .\n",
      "We warmly welcome him to Satama '' , states Jussi Lansio , chairman of the Board .\n",
      "A new Kveyt light variety of Suomalainen Pekoni marketed under the Atria brand name is now available to consumers in Finland .\n",
      "Aspocomp has repaid its interest bearing liability to Standard Chartered Bank and will use the rest of the consideration to partially repay its interest bearing liabilities in Finland and to improve its liquidity .\n",
      "Finnish KCI Konecranes has been awarded an order for four hot metal ladle cranes by Indian steel producer Bhushan Steel & Strips to be delivered in 2007 .\n",
      "HELSINKI AFX - KCI Konecranes said it has won an order for four hot metal ladle cranes from Indian steel producer Bhushan Steel and Strips Ltd. .\n",
      "The CL51 is designed to measure cloud base height and vertical visibility in all weather conditions , which makes it an ideal instrument for meteorological applications that rely on reliable cloud height detection .\n",
      "`` We are delighted to welcome Elisa to our Board of Directors , '' said Garry McGuire , CEO of RMG Networks .\n",
      "Higher bit rates for outgoing traffic improves the end-user experience of mobile broadband services such as video conferencing , file sharing and sending e-mails with attachments .\n",
      "The Basware Connectivity services allow companies to handle purchase to pay processes online and make their internal processes more efficient , '' said CEO Ilkka Sihvo , Basware Corporation .\n",
      "`` It gives us a sense of pride and exposure , '' said Bruce Hansen , the SVH sales representative for Wolverine .\n",
      "CDLI highlights the companies that provided the most comprehensive response to the Carbon Disclosure Project CDP information request .\n",
      "Airbus has 100 firm orders for the A350 and 89 nonbinding commitments .\n",
      "Instead , Elcoteq has signed a non-binding Letter of Intent with another Asian strategic investor .\n",
      "Lithuanian beer makers sold 256.88 million liters of beer in 2005 , a rise of 4.5 per cent from the year-earlier figure of 245.92 million liters .\n",
      "3 January 2011 - Finnish flag carrier Finnair Oyj ( HEL : FIA1S ) said today it sealed a nine-year sale and leaseback agreement for its newest Airbus A330 aircraft for syndication into the Japanese operating lease market .\n",
      "Finnish Metso will supply new wood handling and bleaching lines , as well as a rebuild of the kraft liner washing line for Klabin 's Tel+¬maco Borba mill in the Brazilian state of Paran+í .\n",
      "In 2008 , the deal is likely to bring savings of EUR 20mn-25mn .\n",
      "Juha Jordan , chief engineer at Glaston , said one of the reasons for choosing Vacon as a global AC drives supplier is that it has service and support centres in the same countries where Glaston operates .\n",
      "Net profit was 35.5 mln compared with 29.8 mln .\n",
      "SRV will raise its holding in the company so that by the summer of 2008 , it will have a majority .\n",
      "The diesel margin has remained high .\n",
      "The recovery of demand that started toward the end of 2009 , continued in January-March 2010 .\n",
      "`` We have analyzed Kaupthing Bank Sweden and found a business which fits well into Alandsbanken , '' said Alandsbanken 's chief executive Peter Wiklof in a statement .\n",
      "AUSTIN , Texas , Sept. 6 -- Texas Department Of Transportation awards contract for Teleste Video Compression and Distribution Equipment .\n",
      "Mformation and Nokia noted they have established interoperability agreements that cover commercially proven , standards-based management of mobile devices , as well as mobile device security and mobile application management .\n",
      "Tectia Corporation HEL : TEC1V , a provider of real-time security solutions , today announced that it has appointed LAN2LAN , a provider of IT services in the UK , to distribute its data security and manage file transfer software .\n",
      "The company 's net profit amounted to EE 55.5 mn , which was 36 % more than in 2004 .\n",
      "Consumer products manufacturer Fiskars Corp. will open a distribution and warehouse center in Southaven , creating 100 jobs .\n",
      "And earlier this month , the company signed a deal with India-based information technology services giant Wipro Technologies to transfer and sell its radio access related R&D activities in Berlin .\n",
      "HELSINKI ( Thomson Financial ) - M-real said it will exercise an option to buy a 50MW natural gas power plant and land in Kyroskoski , Finland , for around 13 mln eur from Kyro Oyj .\n",
      "It currently employs about 750 people and expects headcount to reach 1,000 by end of 2007 .\n",
      "Jobs will not be transferred from Finland , however .\n",
      "New product launches in Finland will more than double from 2005 .\n",
      "ST. PETERSBURG , Oct 14 ( PRIME-TASS ) -- Finnish tire producer Nokian Tyres plans to invest about 50 million euros in the expansion of its tire plant in the city of Vsevolozhsk in Russia 's Leningrad Region in 2011 , the company 's President Kim Gran told reporters Thursday .\n",
      "In the Asia-Pacific region , Visa Wave is available in Malaysia , Taiwan and South Korea and will be expanded to Japan and Southeast Asia this year , Jung added .\n",
      "Finnish energy company Fortum Oyj said on November 13 , 2007 it was granted an environmental permit to build a biofuel-fired combined heat and power CHP plant in Vartan harbor in eastern Stockholm .\n",
      "By cutting the number of plants , the group will trim fixed costs .\n",
      "`` Neste Oil has responded to the challenge posed by the European Union 's target of biofuels accounting for 5.8 % of traffic fuel usage in the EU by 2010 by developing its NExBTL technology for producing diesel fuel from renewables , '' the federation said .\n",
      "These financing arrangements will enable the company to ensure , in line with its treasury policy , that it has sufficient financial instruments at its disposal for its potential capital requirements .\n",
      "`` We 're delighted with the move '' says Morna Cowie , co-owner , above , `` it 's double the size of our current shop and has a lovely feel to it . ''\n"
     ]
    }
   ],
   "source": [
    "false_neutrals_svc=svc_best_test_results[(svc_best_test_results['y_true']==2) & (svc_best_test_results['y_pred']==1)]\n",
    "print(f\"\"\"Total SVC good predicted as false neutrals {len(false_neutrals_svc)}\n",
    "\"\"\")\n",
    "\n",
    "for doc in false_neutrals_svc.doc:\n",
    "    print(doc)"
   ]
  },
  {
   "cell_type": "code",
   "execution_count": 41,
   "metadata": {},
   "outputs": [
    {
     "name": "stdout",
     "output_type": "stream",
     "text": [
      "Total Complimentary NB good predicted as false neutrals 177\n",
      "\n",
      "TeliaSonera TLSN said the offer is in line with its strategy to increase its ownership in core business holdings and would strengthen Eesti Telekom 's offering to its customers .\n",
      "STORA ENSO , NORSKE SKOG , M-REAL , UPM-KYMMENE Credit Suisse First Boston ( CFSB ) raised the fair value for shares in four of the largest Nordic forestry groups .\n",
      "The agreement strengthens our long-term partnership with Nokia Siemens Networks .\n",
      "KESKO CORPORATION STOCK EXCHANGE RELEASE 28.02.2008 AT 09.30 1 ( 1 ) Kesko Corporation and Aspo plc today signed an agreement by which Aspo acquires the share capital of Kauko-Telko Ltd , a subsidiary wholly owned by Kesko .\n",
      "The OMX Helsinki 25 index was up 0.92 pct at 2,518.67 and the Helsinki CAP portfolio index was 0.91 pct higher at 4,711.19 .\n",
      "Under this agreement Biohit becomes a focus supplier of pipettors and disposable pipettor tips to VWR customers throughout Europe .\n",
      "Biohit already services many current Genesis customers and the customer base is expected to expand as a result of this agreement .\n",
      "In 2009 , Fiskars ' cash flow from operating activities amounted to EUR121m , up from EUR97m in the previous year .\n",
      "The circuit 's overall production rate on a weekly basis is now in excess of an average of 40,000 tonnes per day , with volumes in excess of 50,000 tonnes per day being reached on individual days .\n",
      "The transaction doubles Tecnomens workforse , and adds a fourth to their net sales .\n",
      "According to Finnish Metso Minerals , the value of the company 's orders has gone up to EUR 1.9 bn in 12 months .\n",
      "Besides we have increased the share of meat in various sausages and are offering a number of new tastes in the grill products and shish kebabs segment , '' Paavel said .\n",
      "Press release 9 October 2009 Ruukki has signed a contract to deliver and install the steel structures for a bridge over the Kyronsalmi strait in Savonlinna , Finland .\n",
      "The Finnish government announced Wednesday that it sold a 32 percent stake in chemicals and fertilizer group Kemira Oyj for (  x20ac ) 655.6 million ( $ 890US million ) , sending the company 's share price up 6 percent .\n",
      "There has been some recovery of the base metals prices and increased demand for metals in China , however .\n",
      "TietoEnator itself uses Nokia 's Intellisync Mobile Suite 's wireless email , calendar , and device management capabilities , and the company will now extend these services to its customers .\n",
      "With the acquisition , the company will expand its offering to North , Central and South America , it said .\n",
      "With the extension of the new contract for a further eight engines , the plant will now produce over 100 MW , it said .\n",
      "The company is now intensifying its smelter operations and increasing its annual production capacity to 230,000 tonnes of copper .\n",
      "The company said that its investments in the new market areas resulted in sales increase in Sweden , Poland , Russia and Lithuania .\n",
      "The disposal of Autotank will also strengthen Aspo 's capital structure , '' commented Gustav Nyberg , CEO of Aspo .\n",
      "Xerox and Stora Enso have teamed up to tailor the iGen3 to the short-run , on-demand packaging market .\n",
      "The company intends to raise production capacity in 2006 .\n",
      "Finnish business software group AffectoGenimap Oyj said it had signed an agreement to acquire all the shares in Swedish sector company Intellibis Ab for 12 mln euro ( $ 15.8 mln ) on a debt-free basis .\n",
      "is planning to expand its product portfolio in the harbor segment , chief executive Pekka Lundmark told Financial Times Deutschland .\n",
      "Ramirent s Danish subsidiary Ramirent A-S has today signed an agreement to acquire the business assets of the machinery rental company Jydsk Materiel Udlejning located in West Jutland .\n",
      "The OMX Nordic 40 ( OMXN40 ) index , comprising the 40 most traded Nordic stocks on the Nasdaq OMX exchange , closed up 1.29 % at 1,084.47 points on Friday .\n",
      "- BEIJING XFN-ASIA - Hong Kong-listed Standard Chartered Bank said it has signed a China mobile phone dealer financing agreement with Nokia , making it the first foreign bank to offer financing to the country 's small and medium enterprise -LR\n",
      "`` Residentialconstruction in particular has picked up in several markets .\n",
      "After the transaction , Alma Media raised its stake in Talentum to 30.65 % of the shares and some 31.12 % of voting rights .\n",
      "The expansion includes the doubling of the floor space and the addition of more lifting capacity and production equipment .\n",
      "The total area of the Gorelovo plant is about 22,000 sq m. Atria invested about EURO 70mn in the plant , which should double Atria Russia 's production capacity in the St Petersburg area .\n",
      "Earnings per share ( EPS ) for the first quarter 2007 amounted to EUR0 .07 , up from EUR0 .04 .\n",
      "Ruukki Romania , the local arm of Finnish metal producer Ruukki , increased its capital by 900,000 euro ( $ 1.14 mln ) through cash contribution , it was reported on September 19 , 2006 .\n",
      "`` Our extensive co-operation will also bolster SysOpen Digia 's position in the domestic operator market , '' Kallioranta adds .\n",
      "Finnish Cargotec 's Kalmar , the business area providing container handling solutions , has been awarded an order for a further ten E-One rubber-tyred gantry RTG cranes from Saigon Newport Company SNP , in Vietnam .\n",
      "Bilfinger investors cheered the agreement , pushing shares up 7 % , or & euro ; 3.30 , to & euro ; 50.29 , in afternoon trade .\n",
      "18 January 2010 - Finnish IT consultancy Trainers ' House Oyj HEL : TRH1V said last Friday it resolved to issue a EUR5m hybrid bond to domestic investors in a bid to strengthen its capital structure .\n",
      "Airvana 's UMTS Home Base Station femto cell uses software-based functionality and off-the-shelf silicon to accelerate feature development and reduce product cost .\n",
      "Earnings per share ( EPS ) amounted to EUR0 .98 , up from the loss of EUR0 .02 .\n",
      "Earnings per share EPS amounted to EUR0 .03 , up from the loss of EUR0 .08 .\n",
      "The investments and operational changes enable additional optimisation of the working hours and thereby further cost savings of some 7 % -9 % .\n",
      "By 14:29 CET on Monday , shares in Bavarian Nordic had climbed 1.21 % to DKK250 on the stock exchange in Copenhagen after having lost 7.41 % in the past month .\n",
      "`` After the share purchase is completed , financing will also be provided to expand Latvia 's broadband infrastructure and to develop new areas of business , including acquisitions of other companies . ''\n",
      "`` The margarine business has been put into good shape in the last two years , making it a natural addition to Bunge , which is looking to leverage its position in the Central and Northern European markets , '' Raisio CEO Matti Rihko said in a statement .\n",
      "`` This is a win for all OEMs targeting to develop WiMAX products .\n",
      "At the same time , sales development in Russia was boosted by the opening of Stockmann Nevsky Centre in St Petersburg .\n",
      "Benefon , a wireless and GPS technology company , will supply Karputer with its TWIG navigation platform , a GPS satellite navigation and voice guidance service .\n",
      "Combining this deep domain expertise with our Application Service Management ASM and outsourcing service offerings has now proved to be a winning combination .\n",
      "Exports accounted for 65.4 % of net sales , representing an all time record for the company .\n",
      "Finnish construction company YIT Oyj said on November 13 , 2007 it won a 70 mln euro $ 102.8 mln contract to construct the new office building for local property company Tapiola Real Estate Oy .\n",
      "Of the price , Kesko 's share is 10 mln euro $ 15.5 mln and it will recognize a gain of 4.0 mln euro $ 6.2 mln on the disposal which will be included in the result for the second quarter of 2008 .\n",
      "Talvivaara also maintains its assumption of turning cash flow positive before the year end .\n",
      "Thanksto improvements in demand and the adjustments we have made , theutilization rates of Cramo 's fleet have substantiallyimproved . ''\n",
      "The estimated synergy benefits are at least EUR7m annually .\n",
      "When the situation normalises , the company will be able to increase the amount of residential units for sale in St Petersburg and Moscow , in particular .\n",
      "`` Stonesoft sees great promise in the future of IPv6 .\n",
      "`` We continued actively to focus R&D and to position our offering away from point solutions towards dynamic end-to-end solutions , '' Ervio stated .\n",
      "According to Finnish pension insurance company Varma , Varma was the recipient of over two thirds of the revenue of the earnings-related pension cover that was under competitive tendering in Finland .\n",
      "Finnish construction group Lemmink+ñinen has been awarded two road building contracts by the Lithuanian transport administration .\n",
      "And the broker repeated its ` buy ' rating , based on expectations that current restructuring will lead to a clear improvement in performance in Europe in 2007 .\n",
      "Cision says the sale will return its U.K. operation to profitability .\n",
      "Comptel , a vendor of dynamic Operations Support System ( OSS ) software , has been selected by Orascom Telecom ( OTH ) as partner for provisioning and activation solutions for mobile services .\n",
      "DMASIA-16 August 2006-Benefon extends manufacturing capability with ASMobile -® 2006 Digitalmediaasia.com & DMA Ltd. .\n",
      "Fiskars has a strong portfolio of international brands , which include Fiskars , Iittala , Gerber , Silva and Buster .\n",
      "Furthermore , efficiency improvement measures initiated earlier are now bearing fruit , '' CEO Jan Lang said .\n",
      "Helsingin Uutiset , Vantaan Sanomat and Lansivayla reach some 385,000 readers , or more than 40 % of the consumers in the greater Helsinki region .\n",
      "NORDIC BUSINESS REPORT-26 June 2006-Metso Corporation wins EUR50m equipment order in Australia -® 1998-2006 M2 COMMUNICATIONS LTD The Finnish engineering and technology group Metso Corporation said on Monday ( 26 June ) that it has received a EUR50m equipment order in Australia .\n",
      "Panostaja Oyj s ( Panostaja ) Board of Directors decided on 16 December 2010 on a new long-term incentive and commitment plan for members of the management team .\n",
      "Raute Corporation has received orders worth over EUR 12 million from OOO Ilim Bratsk DOK in Russia .\n",
      "Recovery has been evident in the liquid handling business , particularly in areas outside Europe and primarily in North America and Asia .\n",
      "Speaking to just-drinks today , a spokesperson for Olvi said : `` We have performed very well in all four countries we operate in - namely , Finland , Estonia , Latvia and Lithuania . ''\n",
      "Sports equipment sales also progressed well owing to the prolonged winter season .\n",
      "The acquisition of Kaupthing Sverige will bring a significant positive non-recurring addition to the group 's performance .\n",
      "The companies have agreed on long-term cooperation to mechanise harvesting in Stora Enso 's eucalyptus plantations in Southern China .\n",
      "The mill has long traditions and holds an established position in the markets .\n",
      "This is Done Logistics ' largest order in Norway , the diversified group said .\n",
      "This resulted in improved sales figures in Sweden .\n",
      "21 December 2010 - Finnish industrial machinery company Wartsila Oyj Abp HEL : WRT1V said yesterday it had won an order to design a liquefied natural gas LNG powered platform supply vessel PSV for Norwegian oil service provider Eidesvik Offshore ASA OSL : EIOF .\n",
      "Finnish Outotec has been awarded a contract to supply a new zinc roaster with gas cleaning and sulphuric acid plant for the OZK Kardzhali zinc smelter in Bulgaria .\n",
      "CEO Erkki J+ñrvinen is happy with the company 's performance in 2010 .\n",
      "Finnish construction group Lemminkainen Oyj HEL : LEM1S said today it has won a contract to provide technical services for the Nevsky Centre shopping mall to be opened in November in St Petersburg , Russia .\n",
      "Rautaruukki said construction group YIT has awarded it a 2.5 mln eur contract to supply the steel structures for a new bridge spanning the Kemijoki river in Northern Finland .\n",
      "The company , which makes garden tools , scissors and other consumer goods , said earnings were boosted by 6.9 mln eur of income it received from its 16.7 pct shareholding in Finnish engineering group Wartsila .\n",
      "The expansion aims to attract new customers both in Finland and abroad .\n",
      "The Federal Secretary for Transport and Communication of Mexico has awarded Poyry and its Mexican partner Sintra a consulting contract in connection with the Buenavista-Cuautitlan suburban railway .\n",
      "The parties have agreed to negotiate definitive distribution and license agreements by the end of June 2010 .\n",
      "The stock of new machines is reasonably small and new orders bring work .\n",
      "This acquisition supports our strategy of being close to our customers all around the world offering both equipment and related services .\n",
      "The world 's biggest magazine paper maker said the program to improve efficiency will include closing several of its least competitive mills and would cover all the company 's operations resulting in annual savings of some euro200 million US$ 240 million .\n",
      "These moderate but significant changes resulted in a significant 24-32 % reduction in the estimated CVD risk .\n",
      "Uponor improved its performance in spite of the decrease in residential construction in the US .\n",
      "Last year , Lemminkainen completed the Kouvola K-supermarket contract .\n",
      "TeliaSonera is the leading telecommunications company in the Nordic and Baltic regions .\n",
      "The services also give the supplier opportunity to key-in invoices , receive orders electronically , to send order confirmations and to upload and create electronic catalogues .\n",
      "` For Nordea , moving into the new headquarters signifies the beginning of a new era .\n",
      "`` Our decision and resolve on MeeGo is only stronger , '' she continued .\n",
      "About Elcoteq Elcoteq SE is a leading electronics manufacturing services ( EMS ) company in the communications technology field .\n",
      "Finnish Raisio ( Diagnostics ) is launching new DNA-based quick tests to ensure the safety of food .\n",
      "He also mentions that this improvement to the service follows the recent expansion of the Finnlines service from Bilbao via Antwerp and Helsinki and from Hull via Helsinki to St. Petersburg .\n",
      "More than 200 volunteers from Fiskars , the garden tool company , Home Depot ( NYSE : HD ) , the city of Baltimore and the neighborhood are working right now to create a garden sanctuary - in a single day .\n",
      "One attractive factor about the tablets for media companies is that they provide a new way of making money .\n",
      "Our strong company brands - ESL Shipping , Leipurin , Telko and Kaukomarkkinat - aim to be the market leaders in their sectors .\n",
      "Precedex is approved for IV sedation of initially intubated and mechanically ventilated patients in intensive care .\n",
      "Upgrades include a five megapixel camera , voice control , and what looks to be an optical mouse instead a D-pad -- an upgrade click-happy S60 has needed forever .\n",
      "We warmly welcome him to Satama '' , states Jussi Lansio , chairman of the Board .\n",
      "`` The acquisition of Sampo Bank makes strategic sense for DB , '' says Lindsey Liddell , director of Fitch Ratings 's Financial Institutions Group .\n",
      "A new Kveyt light variety of Suomalainen Pekoni marketed under the Atria brand name is now available to consumers in Finland .\n",
      "com , and we are constantly planning new ways to serve our customers online on a more comprehensive basis , '' says Matti Leminen , President of Anttila Oy .\n",
      "Aspocomp has repaid its interest bearing liability to Standard Chartered Bank and will use the rest of the consideration to partially repay its interest bearing liabilities in Finland and to improve its liquidity .\n",
      "We are honored to be acknowledged for our commitment to the industry , especially in Asia Pacific . ''\n",
      "For the full 2010 the company expects its net sales and operating result to improve from the previous year , saying that a positive operating result and its amount will depend on the order intake by the end of the summer .\n",
      "It will focus on improving its profitability next year by streamlining operations .\n",
      "With the measures , Suominen Corporation aims to ensure the competitiveness of the Flexible Packaging business in the long term .\n",
      "At the seminar , a memorandum of understanding on co-operation was signed between the Finnish Kemira Company and Vietnam National Chemical Corporation .\n",
      "OUTOTEC OYJ PRESS RELEASE , FEBRUARY 19 , 2008 AT 11.00 AM Outotec has won two large minerals processing technology orders from Mirabela Mineracao do Brasil Ltda , Brazil and from Cumerio Med JSCo , Bulgaria .\n",
      "Satama earned Data Management Solutions competency with Business Intelligence specialization recentlyvia the acquisition of Fimentor Oy .\n",
      "SysOpen Digia Plc , Press release , 7 February 2006 IBM Finland has rewarded its most distinguished partner companies for 2005 .\n",
      "The brokerage said 2006 has seen a ` true turning point ' in European steel base prices , with better pricing seen carrying through the second quarter of 2006 .\n",
      "The concept enables a commercially affordable way to manufacture high-quality TCO coated glass for the solar industry .\n",
      "The new policy was also aimed at making the companies more profitable and competitive .\n",
      "Finnish KCI Konecranes has been awarded an order for four hot metal ladle cranes by Indian steel producer Bhushan Steel & Strips to be delivered in 2007 .\n",
      "HELSINKI AFX - KCI Konecranes said it has won an order for four hot metal ladle cranes from Indian steel producer Bhushan Steel and Strips Ltd. .\n",
      "Mika Stahlberg , VP F-Secure Labs , said , `` We are excited and proud that F-Secure has been recognized by AV-Comparatives as the Product of the Year .\n",
      "Finland 's leading metals group Outokumpu said its fourth-quarter net profit more than tripled on the back of strong global demand for stainless steel , soaring base metal prices and proceeds from the sale of its technology unit .\n",
      "Efore 's presence here also opens up new and interesting development opportunities for our students , '' the dean of the Faculty of Electronics , Communications and Automation at TKK said .\n",
      "The CL51 is designed to measure cloud base height and vertical visibility in all weather conditions , which makes it an ideal instrument for meteorological applications that rely on reliable cloud height detection .\n",
      "`` We are delighted to welcome Elisa to our Board of Directors , '' said Garry McGuire , CEO of RMG Networks .\n",
      "Higher bit rates for outgoing traffic improves the end-user experience of mobile broadband services such as video conferencing , file sharing and sending e-mails with attachments .\n",
      "The Basware Connectivity services allow companies to handle purchase to pay processes online and make their internal processes more efficient , '' said CEO Ilkka Sihvo , Basware Corporation .\n",
      "`` It gives us a sense of pride and exposure , '' said Bruce Hansen , the SVH sales representative for Wolverine .\n",
      "CDLI highlights the companies that provided the most comprehensive response to the Carbon Disclosure Project CDP information request .\n",
      "In a release , the Company said that Vocollect T2 customers in North America can now take advantage of its Voice Directed Warehousing solution and increase warehouse efficiency and productivity gains at a discounted price .\n",
      "According to Finnish insurance companies Tapiola , Local Insurance Group ( L+ñhivakuutus ) , and Pohjola the two fierce storms at the end of July and in the beginning of August 2010 that felled trees around Finland have speeded up sales of forest insurance .\n",
      "Airbus has 100 firm orders for the A350 and 89 nonbinding commitments .\n",
      "Both the net sales and operating profit were record high in the company 's history .\n",
      "The price of raw material aluminium went up at the end of 2005 , but the company considers its outlook for 2006 favourable .\n",
      "3 January 2011 - Finnish flag carrier Finnair Oyj ( HEL : FIA1S ) said today it sealed a nine-year sale and leaseback agreement for its newest Airbus A330 aircraft for syndication into the Japanese operating lease market .\n",
      "Elektrobit ( EB ) has renewed its IT infrastructure contract with ICT services provider Fujitsu Services for EB 's Patja service .\n",
      "Finnish Metso will supply new wood handling and bleaching lines , as well as a rebuild of the kraft liner washing line for Klabin 's Tel+¬maco Borba mill in the Brazilian state of Paran+í .\n",
      "In 2008 , the deal is likely to bring savings of EUR 20mn-25mn .\n",
      "Juha Jordan , chief engineer at Glaston , said one of the reasons for choosing Vacon as a global AC drives supplier is that it has service and support centres in the same countries where Glaston operates .\n",
      "SRV will raise its holding in the company so that by the summer of 2008 , it will have a majority .\n",
      "Talvivaara has secured a 10-year off-take agreement for 100 per cent of its main output of nickel and cobalt to Norilsk Nickel and entered into a long-term zinc streaming agreement with Nyrstar NV .\n",
      "The companies expect the first orders already in 2011 .\n",
      "The diesel margin has remained high .\n",
      "The recovery of demand that started toward the end of 2009 , continued in January-March 2010 .\n",
      "Through the acquisition Solteq will expand its solutions offering by Microsoft 's Dynamics business software products .\n",
      "With this acquisition Panostaja Oyj further expands its business area specialising in digital printing .\n",
      "`` NTC has a geographical presence that complements Ramirent 's existing network and brings us closer to our customers in the East Bohemia region in the CzechRepublic . ''\n",
      "`` We have analyzed Kaupthing Bank Sweden and found a business which fits well into Alandsbanken , '' said Alandsbanken 's chief executive Peter Wiklof in a statement .\n",
      "AUSTIN , Texas , Sept. 6 -- Texas Department Of Transportation awards contract for Teleste Video Compression and Distribution Equipment .\n",
      "Mformation and Nokia noted they have established interoperability agreements that cover commercially proven , standards-based management of mobile devices , as well as mobile device security and mobile application management .\n",
      "Tectia Corporation HEL : TEC1V , a provider of real-time security solutions , today announced that it has appointed LAN2LAN , a provider of IT services in the UK , to distribute its data security and manage file transfer software .\n",
      "Consumer products manufacturer Fiskars Corp. will open a distribution and warehouse center in Southaven , creating 100 jobs .\n",
      "And earlier this month , the company signed a deal with India-based information technology services giant Wipro Technologies to transfer and sell its radio access related R&D activities in Berlin .\n",
      "HELSINKI ( Thomson Financial ) - M-real said it will exercise an option to buy a 50MW natural gas power plant and land in Kyroskoski , Finland , for around 13 mln eur from Kyro Oyj .\n",
      "It currently employs about 750 people and expects headcount to reach 1,000 by end of 2007 .\n",
      "Jobs will not be transferred from Finland , however .\n",
      "New product launches in Finland will more than double from 2005 .\n",
      "services supplier Efore Plc to streamline operations in Finland and the US Finnish electronic systems and services supplier Efore Plc ( OMX Helsinki : EFO1V ) said on Tuesday ( 3 February ) that it has initiated statutory negotiations regarding a streamlining of its operations in Finland .\n",
      "ST. PETERSBURG , Oct 14 ( PRIME-TASS ) -- Finnish tire producer Nokian Tyres plans to invest about 50 million euros in the expansion of its tire plant in the city of Vsevolozhsk in Russia 's Leningrad Region in 2011 , the company 's President Kim Gran told reporters Thursday .\n",
      "According to Finnish Aktia Bank 's Managing Director Jussi Laitinen , the bank 's aim is to triple the number of its customers in Finland in the next five years .\n",
      "The production capacity can be tripled without any major additional investments , the company said .\n",
      "The through service of FESCO is a telling example of strengthening the relationship between logistics companies and operators at the international level .\n",
      "Lean System supports change management and component purchasing extremely well .\n",
      "Finnish energy company Fortum Oyj said on November 13 , 2007 it was granted an environmental permit to build a biofuel-fired combined heat and power CHP plant in Vartan harbor in eastern Stockholm .\n",
      "By cutting the number of plants , the group will trim fixed costs .\n",
      "`` Neste Oil has responded to the challenge posed by the European Union 's target of biofuels accounting for 5.8 % of traffic fuel usage in the EU by 2010 by developing its NExBTL technology for producing diesel fuel from renewables , '' the federation said .\n",
      "These financing arrangements will enable the company to ensure , in line with its treasury policy , that it has sufficient financial instruments at its disposal for its potential capital requirements .\n",
      "According to Karhinen , OP-Pohjola is an exciting enterprise because the cooperation will bring huge opportunities for customers and the company itself .\n",
      "The broker highlights Cargotec as its preferred stock in the sector , as it is a pure play on global cargo and container handling , and it expects it to play an active role in further consolidating the industry .\n",
      "`` We 're delighted with the move '' says Morna Cowie , co-owner , above , `` it 's double the size of our current shop and has a lovely feel to it . ''\n",
      "The long-standing partnership and commitment enable both parties to develop their respective operations , and ESL Shipping will also have the opportunity to update its fleet and improve its efficiency .\n",
      "` After fixing our home-base , cutting costs and closing the non-profitable units , we are now looking at going forward , ' she said .\n",
      "29 September , 2010 Finnish waste management and recycling company Lassila & Tikanoja expands its operations in Russia by introducing its recently completed recycling plant in the city of Dubna near Moscow .\n",
      "Rory Fitzgerald , general manager , operations , Bristol Port , said : `` With the use of low maintenance technology we can save up to 30 per cent on servicing , plus the load sensing hydraulics can save us an extra 15 to 30 per cent on fuel consumption . ''\n"
     ]
    }
   ],
   "source": [
    "false_neutrals_mnb=mnb_test_results[(mnb_test_results['y_true']==2) & (mnb_test_results['y_pred']==1)]\n",
    "print(f\"\"\"Total Complimentary NB good predicted as false neutrals {len(false_neutrals_mnb)}\n",
    "\"\"\")\n",
    "for doc in false_neutrals_mnb.doc:\n",
    "    print(doc)"
   ]
  },
  {
   "cell_type": "markdown",
   "metadata": {},
   "source": [
    "over ~60% of the underlying data overlap, regardless whether tdidf or glove was used or the model it was trained on, which means it is very likely that some labels in the dataset are ambigous in themselves, and different word embeddings may not improve the results.\n",
    "Additionally, since glove, tfidf are not contextual, it is possible that some of these are misclassified due to the lack of context. We will try BERT contextual embedding next. See `BERT Tensorflow.ipynb`"
   ]
  }
 ],
 "metadata": {
  "kernelspec": {
   "display_name": "Python (learn-env)",
   "language": "python",
   "name": "learn-env"
  },
  "language_info": {
   "codemirror_mode": {
    "name": "ipython",
    "version": 3
   },
   "file_extension": ".py",
   "mimetype": "text/x-python",
   "name": "python",
   "nbconvert_exporter": "python",
   "pygments_lexer": "ipython3",
   "version": "3.8.5"
  }
 },
 "nbformat": 4,
 "nbformat_minor": 4
}
